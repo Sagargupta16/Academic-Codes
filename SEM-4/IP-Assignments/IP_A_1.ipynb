{
  "nbformat": 4,
  "nbformat_minor": 0,
  "metadata": {
    "colab": {
      "provenance": []
    },
    "kernelspec": {
      "name": "python3",
      "display_name": "Python 3"
    },
    "language_info": {
      "name": "python"
    }
  },
  "cells": [
    {
      "cell_type": "code",
      "execution_count": null,
      "metadata": {
        "colab": {
          "base_uri": "https://localhost:8080/"
        },
        "id": "EMTtSegQ9g7h",
        "outputId": "3d823d1e-2d9e-4acb-f18b-ccc56999cab0"
      },
      "outputs": [
        {
          "output_type": "stream",
          "name": "stdout",
          "text": [
            "[[4, 5, 5, 2], [1, 4, 6, 3], [3, 1, 5, 5], [7, 1, 1, 6]]\n",
            "[[4, 5, 5, 2], [1, 6, 6, 3], [3, 7, 7, 5], [7, 1, 1, 6]]\n"
          ]
        }
      ],
      "source": [
        "# Dilation of Don't Process\n",
        "T = [[4,5,5,2],[1,4,6,3],[3,1,5,5],[7,1,1,6]]\n",
        "print(T)\n",
        "X = T\n",
        "for i in range(1,3):\n",
        "  for j in range(1,3):\n",
        "    X[i][j]=max([T[i-1][j-1],T[i-1][j],T[i-1][j+1],T[i][j-1],T[i][j],T[i][j+1],T[i+1][j-1],T[i+1][j],T[i+1][j+1]])\n",
        "\n",
        "print(X)\n"
      ]
    },
    {
      "cell_type": "code",
      "source": [
        "# Erosion of Don't Process\n",
        "T = [[4,5,5,2],[1,4,6,3],[3,1,5,5],[7,1,1,6]]\n",
        "print(T)\n",
        "X = T\n",
        "for i in range(1,3):\n",
        "  for j in range(1,3):\n",
        "    X[i][j]=min([T[i-1][j-1],T[i-1][j],T[i-1][j+1],T[i][j-1],\n",
        "                 T[i][j],T[i][j+1],T[i+1][j-1],T[i+1][j],T[i+1][j+1]])\n",
        "\n",
        "print(X)"
      ],
      "metadata": {
        "colab": {
          "base_uri": "https://localhost:8080/"
        },
        "id": "NeNh3kiqC75L",
        "outputId": "d92bfe28-905f-4d52-ce2d-975adc98ce54"
      },
      "execution_count": null,
      "outputs": [
        {
          "output_type": "stream",
          "name": "stdout",
          "text": [
            "[[4, 5, 5, 2], [1, 4, 6, 3], [3, 1, 5, 5], [7, 1, 1, 6]]\n",
            "[[4, 5, 5, 2], [1, 1, 1, 3], [3, 1, 1, 5], [7, 1, 1, 6]]\n"
          ]
        }
      ]
    },
    {
      "cell_type": "code",
      "source": [
        "# Dilation of Do with existing\n",
        "T = [[4,5,5,2],[1,4,6,3],[3,1,5,5],[7,1,1,6]]\n",
        "print(T)\n",
        "X = T\n",
        "def abc(i,j):\n",
        "  if i<0 or i>3 or j<0 or j>3:\n",
        "    return 0\n",
        "  return T[i][j]\n",
        "\n",
        "for i in range(0,4):\n",
        "  for j in range(0,4):\n",
        "    X[i][j]=max([abc(i-1,j-1),abc(i-1,j),abc(i-1,j+1),abc(i,j-1),\n",
        "                 abc(i,j),abc(i,j+1),abc(i+1,j-1),abc(i+1,j),abc(i+1,j+1)])\n",
        "\n",
        "print(X)"
      ],
      "metadata": {
        "colab": {
          "base_uri": "https://localhost:8080/"
        },
        "id": "gspQBOmhDWKM",
        "outputId": "85201786-3a2f-41fe-b2ad-a6b6add70f4f"
      },
      "execution_count": null,
      "outputs": [
        {
          "output_type": "stream",
          "name": "stdout",
          "text": [
            "[[4, 5, 5, 2], [1, 4, 6, 3], [3, 1, 5, 5], [7, 1, 1, 6]]\n",
            "[[5, 6, 6, 6], [6, 6, 6, 6], [7, 7, 7, 7], [7, 7, 7, 7]]\n"
          ]
        }
      ]
    },
    {
      "cell_type": "code",
      "source": [
        "# Erosion of Do with existing\n",
        "T = [[4,5,5,2],[1,4,6,3],[3,1,5,5],[7,1,1,6]]\n",
        "print(T)\n",
        "X = T\n",
        "def abc(i,j):\n",
        "  if i<0 or i>3 or j<0 or j>3:\n",
        "    return 7\n",
        "  return T[i][j]\n",
        "\n",
        "for i in range(0,4):\n",
        "  for j in range(0,4):\n",
        "    X[i][j]=min([abc(i-1,j-1),abc(i-1,j),abc(i-1,j+1),abc(i,j-1),\n",
        "                 abc(i,j),abc(i,j+1),abc(i+1,j-1),abc(i+1,j),abc(i+1,j+1)])\n",
        "\n",
        "print(X)"
      ],
      "metadata": {
        "colab": {
          "base_uri": "https://localhost:8080/"
        },
        "id": "9tV9qerZGCE0",
        "outputId": "0cb738ea-7796-4c84-ef7e-1d6375495cc1"
      },
      "execution_count": null,
      "outputs": [
        {
          "output_type": "stream",
          "name": "stdout",
          "text": [
            "[[4, 5, 5, 2], [1, 4, 6, 3], [3, 1, 5, 5], [7, 1, 1, 6]]\n",
            "[[1, 1, 1, 1], [1, 1, 1, 1], [1, 1, 1, 1], [1, 1, 1, 1]]\n"
          ]
        }
      ]
    },
    {
      "cell_type": "code",
      "source": [
        "# Dilation of With Padding as 4\n",
        "T = [[4,5,5,2],[1,4,6,3],[3,1,5,5],[7,1,1,6]]\n",
        "print(T)\n",
        "X = T\n",
        "def abc(i,j):\n",
        "  if i<0 or i>3 or j<0 or j>3:\n",
        "    return 4\n",
        "  return T[i][j]\n",
        "\n",
        "for i in range(0,4):\n",
        "  for j in range(0,4):\n",
        "    X[i][j]=max([abc(i-1,j-1),abc(i-1,j),abc(i-1,j+1),abc(i,j-1),\n",
        "                 abc(i,j),abc(i,j+1),abc(i+1,j-1),abc(i+1,j),abc(i+1,j+1)])\n",
        "\n",
        "print(X)"
      ],
      "metadata": {
        "colab": {
          "base_uri": "https://localhost:8080/"
        },
        "id": "SHjqAsPKGxNO",
        "outputId": "155fa3ec-ae26-4097-c012-9ded447d6151"
      },
      "execution_count": null,
      "outputs": [
        {
          "output_type": "stream",
          "name": "stdout",
          "text": [
            "[[4, 5, 5, 2], [1, 4, 6, 3], [3, 1, 5, 5], [7, 1, 1, 6]]\n",
            "[[5, 6, 6, 6], [6, 6, 6, 6], [7, 7, 7, 7], [7, 7, 7, 7]]\n"
          ]
        }
      ]
    },
    {
      "cell_type": "code",
      "source": [
        "# Erosion of With Padding as 4\n",
        "T = [[4,5,5,2],[1,4,6,3],[3,1,5,5],[7,1,1,6]]\n",
        "print(T)\n",
        "X = T\n",
        "def abc(i,j):\n",
        "  if i<0 or i>3 or j<0 or j>3:\n",
        "    return 4\n",
        "  return T[i][j]\n",
        "\n",
        "for i in range(0,4):\n",
        "  for j in range(0,4):\n",
        "    X[i][j]=min([abc(i-1,j-1),abc(i-1,j),abc(i-1,j+1),abc(i,j-1),\n",
        "                 abc(i,j),abc(i,j+1),abc(i+1,j-1),abc(i+1,j),abc(i+1,j+1)])\n",
        "\n",
        "print(X)"
      ],
      "metadata": {
        "colab": {
          "base_uri": "https://localhost:8080/"
        },
        "id": "Aefg-x5DHIfK",
        "outputId": "9cfb18d3-f153-487e-b5f3-b934583fdc0e"
      },
      "execution_count": null,
      "outputs": [
        {
          "output_type": "stream",
          "name": "stdout",
          "text": [
            "[[4, 5, 5, 2], [1, 4, 6, 3], [3, 1, 5, 5], [7, 1, 1, 6]]\n",
            "[[1, 1, 1, 1], [1, 1, 1, 1], [1, 1, 1, 1], [1, 1, 1, 1]]\n"
          ]
        }
      ]
    }
  ]
}