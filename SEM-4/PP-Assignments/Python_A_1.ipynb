{
  "nbformat": 4,
  "nbformat_minor": 0,
  "metadata": {
    "colab": {
      "provenance": []
    },
    "kernelspec": {
      "name": "python3",
      "display_name": "Python 3"
    },
    "language_info": {
      "name": "python"
    }
  },
  "cells": [
    {
      "cell_type": "code",
      "execution_count": null,
      "metadata": {
        "colab": {
          "base_uri": "https://localhost:8080/"
        },
        "id": "VQ41gpc5c6B0",
        "outputId": "fed13a5d-7f87-478b-ade0-fb053b0612c8"
      },
      "outputs": [
        {
          "output_type": "stream",
          "name": "stdout",
          "text": [
            "Error\n"
          ]
        }
      ],
      "source": [
        "#Assignment-1\n",
        "\n",
        "#Q1\n",
        "a = 10\n",
        "if a==10:\n",
        "  print(\"Error\")"
      ]
    },
    {
      "cell_type": "code",
      "source": [
        "#Q2\n",
        "a = int(input(\"Enter 1st no. \"))\n",
        "b = int(input(\"Enter 2nd no. \"))\n",
        "c = int(input(\"Enter 3rd no. \"))\n",
        "if a>b and a>c:\n",
        "  print(\"1st no. is Greatest\")\n",
        "elif b>a and b>c:\n",
        "  print(\"2nd no. is Greatest\")\n",
        "else:\n",
        "  print(\"3rd no. is Greatest\")"
      ],
      "metadata": {
        "colab": {
          "base_uri": "https://localhost:8080/"
        },
        "id": "ORue3jaTorS5",
        "outputId": "448f7759-6d88-4604-d198-c3adbeced424"
      },
      "execution_count": null,
      "outputs": [
        {
          "output_type": "stream",
          "name": "stdout",
          "text": [
            "Enter 1st no. 1\n",
            "Enter 2nd no. 1\n",
            "Enter 3rd no. 1\n",
            "3rd no. is Greatest\n"
          ]
        }
      ]
    },
    {
      "cell_type": "code",
      "source": [
        "#Q3\n",
        "a = int(input(\"Enter a no. \"))\n",
        "if a>=0:\n",
        "  print(\"Entered No. is Positive\")\n",
        "else:\n",
        "  print(\"Entered No. is Negative\")"
      ],
      "metadata": {
        "colab": {
          "base_uri": "https://localhost:8080/"
        },
        "id": "kYNnfI8vox2b",
        "outputId": "dba1c393-791f-4683-87d0-d8352802261c"
      },
      "execution_count": null,
      "outputs": [
        {
          "output_type": "stream",
          "name": "stdout",
          "text": [
            "Enter a no. -1\n",
            "Entered No. is Negative\n"
          ]
        }
      ]
    },
    {
      "cell_type": "code",
      "source": [
        "#Q4\n",
        "a = float(input(\"Enter Temperature in Celcius \"))\n",
        "b = (a*1.8)+32\n",
        "print(f\"{a} Celcius in Farehnheit is {b}\")\n",
        "\n",
        "a = float(input(\"Enter Temperature in Farehnheit \"))\n",
        "b = (a-32)*(5/9)\n",
        "print(f\"{a} Farehnheit in Celcius is {b}\")"
      ],
      "metadata": {
        "colab": {
          "base_uri": "https://localhost:8080/"
        },
        "id": "trJrIPFYo3Rr",
        "outputId": "031fc954-70ba-43b9-c888-76719db87043"
      },
      "execution_count": null,
      "outputs": [
        {
          "output_type": "stream",
          "name": "stdout",
          "text": [
            "Enter Temperature in Celcius 10\n",
            "10.0 Celcius in Farehnheit is 50.0\n",
            "Enter Temperature in Farehnheit 50\n",
            "50.0 Farehnheit in Celcius is 10.0\n"
          ]
        }
      ]
    },
    {
      "cell_type": "code",
      "source": [
        "#Q5\n",
        "a = int(input(\"Enter a day in Number \"))\n",
        "if a==1:\n",
        "  print(\"Sunday\")\n",
        "elif a==2:\n",
        "  print(\"Monday\")\n",
        "elif a==3:\n",
        "  print(\"Tuesday\")\n",
        "elif a==4:\n",
        "  print(\"Wednesday\")\n",
        "elif a==5:\n",
        "  print(\"Thursday\")\n",
        "elif a==6:\n",
        "  print(\"Friday\")\n",
        "elif a==7:\n",
        "  print(\"Saturday\")\n",
        "else:\n",
        "  print(\"Enter No. withing range of 1 and 7\")"
      ],
      "metadata": {
        "id": "DM67pJZ9o6Fr"
      },
      "execution_count": null,
      "outputs": []
    },
    {
      "cell_type": "code",
      "source": [
        "#Q6\n",
        "a = int(input(\"First Side of Triangle is \"))\n",
        "b = int(input(\"Second Side of Triangle is \"))\n",
        "c = int(input(\"Third Side of Triangle is \"))\n",
        "if a*a==b*b+c*c or b*b==a*a+c*c or c*c==a*a+b*b:\n",
        "  print(\"Triangle with given side is Right angled Triangle\")\n",
        "else:\n",
        "  print(\"Triangle with given side is not right angled triangle\")"
      ],
      "metadata": {
        "colab": {
          "base_uri": "https://localhost:8080/"
        },
        "id": "hgeRU0qNo98E",
        "outputId": "a92aa131-0329-479d-cac2-8d272c375971"
      },
      "execution_count": null,
      "outputs": [
        {
          "output_type": "stream",
          "name": "stdout",
          "text": [
            "First Side of Triangle is 3\n",
            "Second Side of Triangle is 4\n",
            "Third Side of Triangle is 5\n",
            "Triangle with given side is Right angled Triangle\n"
          ]
        }
      ]
    },
    {
      "cell_type": "code",
      "source": [
        "#Q7\n",
        "import math\n",
        "x1 = int(input(\"Enter x Coordinate of 1st point \"))\n",
        "y1 = int(input(\"Enter y Coordinate of 1st point \"))\n",
        "x2 = int(input(\"Enter x Coordinate of 2nd point \"))\n",
        "y2 = int(input(\"Enter y Coordinate of 2nd point \"))\n",
        "dist = math.sqrt((x2-x1)**2+(y2-y1)**2)\n",
        "print(f\"Distance between Given 2 points is: {round(dist,2)}\")"
      ],
      "metadata": {
        "colab": {
          "base_uri": "https://localhost:8080/"
        },
        "id": "5-75xseGpCGb",
        "outputId": "527cd609-e5fe-46cb-f9e1-b7d9602da633"
      },
      "execution_count": null,
      "outputs": [
        {
          "output_type": "stream",
          "name": "stdout",
          "text": [
            "Enter x Coordinate of 1st point 0\n",
            "Enter y Coordinate of 1st point 1\n",
            "Enter x Coordinate of 2nd point 1\n",
            "Enter y Coordinate of 2nd point 0\n",
            "Distance between Given 2 points is: 1.41\n"
          ]
        }
      ]
    }
  ]
}