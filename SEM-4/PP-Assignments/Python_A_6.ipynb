{
  "nbformat": 4,
  "nbformat_minor": 0,
  "metadata": {
    "colab": {
      "provenance": []
    },
    "kernelspec": {
      "name": "python3",
      "display_name": "Python 3"
    },
    "language_info": {
      "name": "python"
    }
  },
  "cells": [
    {
      "cell_type": "code",
      "execution_count": null,
      "metadata": {
        "colab": {
          "base_uri": "https://localhost:8080/"
        },
        "id": "wIT_UXRJ5Zqp",
        "outputId": "9a3cc815-dc2d-4285-d223-2de7b3886257"
      },
      "outputs": [
        {
          "output_type": "stream",
          "name": "stdout",
          "text": [
            "['print(\"This is #Sample Program\")\\n', '#print(\"This is Comment\")']\n",
            "['print(\"This is #Sample Program\")\\n', 'print(\"This is Comment\")']\n",
            "\n",
            "print(\"This is #Sample Program\")\n",
            "print(\"This is Comment\")\n"
          ]
        }
      ],
      "source": [
        "# Q-1\n",
        "abc = open(\"/content/sample_Program.py\",\"r\")\n",
        "l = abc.readlines()\n",
        "print(l)\n",
        "a=len(l)\n",
        "for i in range(0,a):\n",
        "  if l[i][0]==\"#\":\n",
        "    l[i]=l[i][1:]\n",
        "print(l)\n",
        "abc.close()\n",
        "\n",
        "xyz = open(\"/content/sample_Program.py\",\"w\")\n",
        "for i in l:\n",
        "  xyz.write(i)\n",
        "\n",
        "xyz.close()\n",
        "\n",
        "print()\n",
        "abc = open(\"/content/sample_Program.py\",\"r\")\n",
        "print(abc.read())\n",
        "abc.close()\n"
      ]
    },
    {
      "cell_type": "code",
      "source": [
        "# Q-2\n",
        "\n",
        "def anagramFunc(l):\n",
        "  print(\"Original list of strings:\")\n",
        "  print(l)\n",
        "  s = set()\n",
        "\n",
        "  for i in l:\n",
        "    s.add(''.join(sorted(i)))\n",
        "  print(s)\n",
        "  t = []\n",
        "  for i in s:\n",
        "    x=[]\n",
        "    for j in l:\n",
        "      if ''.join(sorted(j))==i:\n",
        "        x.append(j)\n",
        "    t.append(x)\n",
        "\n",
        "  print(\"Find and group all anagrams in the said list:\")\n",
        "  print(t)\n",
        "  print()\n",
        "\n",
        "l = ['eat', 'cba', 'tae', 'abc', 'xyz']\n",
        "anagramFunc(l)\n",
        "\n",
        "l = ['restful', 'forty five', 'evil', 'over fifty', 'vile',\n",
        "'fluster']\n",
        "anagramFunc(l)\n",
        "\n",
        "\n"
      ],
      "metadata": {
        "colab": {
          "base_uri": "https://localhost:8080/"
        },
        "id": "0IHcx6VVAW4J",
        "outputId": "d65ef1f5-84e1-42f7-f33b-1ea8dbd1002c"
      },
      "execution_count": null,
      "outputs": [
        {
          "output_type": "stream",
          "name": "stdout",
          "text": [
            "Original list of strings:\n",
            "['eat', 'cba', 'tae', 'abc', 'xyz']\n",
            "{'xyz', 'abc', 'aet'}\n",
            "Find and group all anagrams in the said list:\n",
            "[['xyz'], ['cba', 'abc'], ['eat', 'tae']]\n",
            "\n",
            "Original list of strings:\n",
            "['restful', 'forty five', 'evil', 'over fifty', 'vile', 'fluster']\n",
            "{'eilv', 'eflrstu', ' effiortvy'}\n",
            "Find and group all anagrams in the said list:\n",
            "[['evil', 'vile'], ['restful', 'fluster'], ['forty five', 'over fifty']]\n",
            "\n"
          ]
        }
      ]
    },
    {
      "cell_type": "code",
      "source": [
        "# Q-3\n",
        "def thirdLargest(l):\n",
        "  print(\"Original list of strings:\")\n",
        "  print(l)\n",
        "  s=set()\n",
        "\n",
        "  for i in l:\n",
        "    s.add(i)\n",
        "  \n",
        "  l2=[]\n",
        "  for i in s:\n",
        "    l2.append(i)\n",
        "\n",
        "  sorted(l2)\n",
        "  print(\"Third largest number of the said list of numbers:\")\n",
        "  if len(l2)<3:\n",
        "    print(\"None\")\n",
        "  else:\n",
        "    print(l2[len(l2)-3])\n",
        "  print()\n",
        "\n",
        "l=[1, 2, 3, 4, 5, 6, 7, 8, 9]\n",
        "thirdLargest(l)\n",
        "l=[1, 2, 3, 4, 5, 5, 6, 7, 7, 8, 8, 9, 10]\n",
        "thirdLargest(l)\n",
        "l=[1, 2, 3]\n",
        "thirdLargest(l)\n",
        "l=[1, 2, 2]\n",
        "thirdLargest(l)\n",
        "l=[1, 2]\n",
        "thirdLargest(l)"
      ],
      "metadata": {
        "colab": {
          "base_uri": "https://localhost:8080/"
        },
        "id": "GKqMqCixGh1I",
        "outputId": "7d965723-0f36-461f-c96e-dff96f52ace5"
      },
      "execution_count": null,
      "outputs": [
        {
          "output_type": "stream",
          "name": "stdout",
          "text": [
            "Original list of strings:\n",
            "[1, 2, 3, 4, 5, 6, 7, 8, 9]\n",
            "Third largest number of the said list of numbers:\n",
            "7\n",
            "\n",
            "Original list of strings:\n",
            "[1, 2, 3, 4, 5, 5, 6, 7, 7, 8, 8, 9, 10]\n",
            "Third largest number of the said list of numbers:\n",
            "8\n",
            "\n",
            "Original list of strings:\n",
            "[1, 2, 3]\n",
            "Third largest number of the said list of numbers:\n",
            "1\n",
            "\n",
            "Original list of strings:\n",
            "[1, 2, 2]\n",
            "Third largest number of the said list of numbers:\n",
            "None\n",
            "\n",
            "Original list of strings:\n",
            "[1, 2]\n",
            "Third largest number of the said list of numbers:\n",
            "None\n",
            "\n"
          ]
        }
      ]
    },
    {
      "cell_type": "code",
      "source": [
        "# Q-4\n",
        "\n",
        "def removeDups(l):\n",
        "  print(\"Original list of strings:\")\n",
        "  print(l)\n",
        "  s=set()\n",
        "\n",
        "  for i in l:\n",
        "    s.add(i)\n",
        "  \n",
        "  l2=[]\n",
        "  for i in s:\n",
        "    l2.append(i)\n",
        "\n",
        "  print(\"List of strings after removing duplicates:\")\n",
        "  print(l2)\n",
        "  print()\n",
        "\n",
        "l = ['foo', 'bar', 'abc', 'foo', 'qux', 'bar', 'baz']\n",
        "removeDups(l)\n",
        "l=['Python', 'Exercises', 'Practice', 'Solution', 'Exercises']\n",
        "removeDups(l)"
      ],
      "metadata": {
        "colab": {
          "base_uri": "https://localhost:8080/"
        },
        "id": "z1DQrWaCJpPv",
        "outputId": "93ad6764-25dd-4768-895c-09d61a8d0cde"
      },
      "execution_count": null,
      "outputs": [
        {
          "output_type": "stream",
          "name": "stdout",
          "text": [
            "Original list of strings:\n",
            "['foo', 'bar', 'abc', 'foo', 'qux', 'bar', 'baz']\n",
            "List of strings after removing duplicates:\n",
            "['qux', 'foo', 'bar', 'abc', 'baz']\n",
            "\n",
            "Original list of strings:\n",
            "['Python', 'Exercises', 'Practice', 'Solution', 'Exercises']\n",
            "List of strings after removing duplicates:\n",
            "['Practice', 'Solution', 'Python', 'Exercises']\n",
            "\n"
          ]
        }
      ]
    },
    {
      "cell_type": "code",
      "source": [
        "# Q-5\n",
        "def allTrips(l,tar):\n",
        "  print(\"Original list of strings:\")\n",
        "  print(l)\n",
        "  print(f\"Target : {tar}\")\n",
        "  l=sorted(l)\n",
        "  x=len(l)\n",
        "  z=[]\n",
        "  for i in range(0,x):\n",
        "    for j in range(i+1,x):\n",
        "      for k in range(j+1,x):\n",
        "        if l[i]+l[j]+l[k]==tar:\n",
        "          z.append((l[i],l[j],l[k]))\n",
        "  \n",
        "  print(\"Combine three numbers whose sum equal to a target number:\")\n",
        "  print(z)\n",
        "\n",
        "l = [1, 2, 3, 4, 5, 6, 7, 8, 9]\n",
        "allTrips(l,12)\n",
        "\n",
        "l = [1, 2, 3, 4, 5, 6, 7, 8, 9]\n",
        "allTrips(l,17)\n"
      ],
      "metadata": {
        "colab": {
          "base_uri": "https://localhost:8080/"
        },
        "id": "7AEsk2OVKP3B",
        "outputId": "1918b610-1679-4556-9c39-692b17de9340"
      },
      "execution_count": null,
      "outputs": [
        {
          "output_type": "stream",
          "name": "stdout",
          "text": [
            "Original list of strings:\n",
            "[1, 2, 3, 4, 5, 6, 7, 8, 9]\n",
            "Target : 12\n",
            "Combine three numbers whose sum equal to a target number:\n",
            "[(1, 2, 9), (1, 3, 8), (1, 4, 7), (1, 5, 6), (2, 3, 7), (2, 4, 6), (3, 4, 5)]\n",
            "Original list of strings:\n",
            "[1, 2, 3, 4, 5, 6, 7, 8, 9]\n",
            "Target : 17\n",
            "Combine three numbers whose sum equal to a target number:\n",
            "[(1, 7, 9), (2, 6, 9), (2, 7, 8), (3, 5, 9), (3, 6, 8), (4, 5, 8), (4, 6, 7)]\n"
          ]
        }
      ]
    },
    {
      "cell_type": "code",
      "source": [
        "# Q-6\n",
        "l=[]\n",
        "with open(\"/content/sample_Program.py\") as xyz:\n",
        "  for i in xyz:\n",
        "    l.append(i)\n",
        "\n",
        "print(l)\n"
      ],
      "metadata": {
        "colab": {
          "base_uri": "https://localhost:8080/"
        },
        "id": "w0nxPgHEKbc4",
        "outputId": "76b30194-77d0-429b-a73f-e7e6ab3d1eb8"
      },
      "execution_count": null,
      "outputs": [
        {
          "output_type": "stream",
          "name": "stdout",
          "text": [
            "['print(\"This is #Sample Program\")\\n', 'print(\"This is Comment\")']\n"
          ]
        }
      ]
    },
    {
      "cell_type": "code",
      "source": [
        "# Q-7\n",
        "l=[]\n",
        "with open(\"/content/sample_Program.py\") as xyz:\n",
        "  for i in xyz:\n",
        "    l.append(i)\n",
        "\n",
        "print(l)\n"
      ],
      "metadata": {
        "id": "kJFiLt3VK2As"
      },
      "execution_count": null,
      "outputs": []
    },
    {
      "cell_type": "code",
      "source": [
        "# Q-8\n",
        "l=[\"So1\",\"So2\"]\n",
        "with open(\"/content/abc.txt\",\"w\") as xyz:\n",
        "  for i in l:\n",
        "    xyz.write(i+\"\\n\")\n",
        "\n"
      ],
      "metadata": {
        "id": "qdoWaIgNLAWh"
      },
      "execution_count": null,
      "outputs": []
    },
    {
      "cell_type": "code",
      "source": [
        "# Q-9\n",
        "l=[]\n",
        "with open(\"/content/sample_Program.py\") as xyz:\n",
        "  for i in xyz:\n",
        "    if \"\\n\" in i:\n",
        "      l.append(i[:-1])\n",
        "    else:\n",
        "      l.append(i)\n",
        "\n",
        "print(l)\n"
      ],
      "metadata": {
        "colab": {
          "base_uri": "https://localhost:8080/"
        },
        "id": "V_Em2rt7Ljxy",
        "outputId": "1f5612e6-4b86-4ec5-9501-7eeca4f3782b"
      },
      "execution_count": null,
      "outputs": [
        {
          "output_type": "stream",
          "name": "stdout",
          "text": [
            "['print(\"This is #Sample Program\")', 'print(\"This is Comment\")']\n"
          ]
        }
      ]
    },
    {
      "cell_type": "code",
      "source": [
        "# Q-10\n",
        "l=[]\n",
        "with open(\"/content/sample_Program.py\") as xyz:\n",
        "  x=0\n",
        "  for i in xyz:\n",
        "    x+=len(i)\n",
        "  print(x)\n"
      ],
      "metadata": {
        "colab": {
          "base_uri": "https://localhost:8080/"
        },
        "id": "A36sbZDWMcTC",
        "outputId": "f9d50a6b-288b-4578-b24e-0d47f2b28750"
      },
      "execution_count": null,
      "outputs": [
        {
          "output_type": "stream",
          "name": "stdout",
          "text": [
            "57\n"
          ]
        }
      ]
    }
  ]
}