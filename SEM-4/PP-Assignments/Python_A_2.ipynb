{
  "nbformat": 4,
  "nbformat_minor": 0,
  "metadata": {
    "colab": {
      "provenance": []
    },
    "kernelspec": {
      "name": "python3",
      "display_name": "Python 3"
    },
    "language_info": {
      "name": "python"
    }
  },
  "cells": [
    {
      "cell_type": "code",
      "execution_count": null,
      "metadata": {
        "colab": {
          "base_uri": "https://localhost:8080/"
        },
        "id": "GmZNwRzReUOD",
        "outputId": "306fc372-9896-497d-fba1-0e1ed8dff7eb"
      },
      "outputs": [
        {
          "output_type": "stream",
          "name": "stdout",
          "text": [
            "Enter First No. : 9\n",
            "Enter Second No. : 6\n",
            "The GCD of 9 and 6 is 3.\n"
          ]
        }
      ],
      "source": [
        "# Q1\n",
        "a = int(input(\"Enter First No. : \"))\n",
        "b = int(input(\"Enter Second No. : \"))\n",
        "gcd = 1\n",
        "i=1\n",
        "while i<a and i<b:\n",
        "  if a%i==0 and b%i==0:\n",
        "    gcd = i\n",
        "  i=i+1\n",
        "print(f\"The GCD of {a} and {b} is {gcd}.\")"
      ]
    },
    {
      "cell_type": "code",
      "source": [
        "# Q2\n",
        "a = int(input(\"Enter a Number : \"))\n",
        "sum=0\n",
        "b=a\n",
        "while a>0:\n",
        "  x=int(a%10)\n",
        "  sum=sum+x\n",
        "  a=a/10\n",
        "print(f\"Sum of digits of {b} is {sum}\")"
      ],
      "metadata": {
        "colab": {
          "base_uri": "https://localhost:8080/"
        },
        "id": "9DttAo36e1L8",
        "outputId": "f3d8cc57-145e-4d7f-d20d-8203390d38b7"
      },
      "execution_count": null,
      "outputs": [
        {
          "output_type": "stream",
          "name": "stdout",
          "text": [
            "Enter a Number : 12345\n",
            "Sum of digits of 12345 is 15\n"
          ]
        }
      ]
    },
    {
      "cell_type": "code",
      "source": [
        "# Q3\n",
        "n = int(input(\"Enter a Number : \"))\n",
        "a = 0\n",
        "b = 1\n",
        "while a<n:\n",
        "  print(a)\n",
        "  if b<n:\n",
        "    print(b)\n",
        "  a=a+b\n",
        "  b=a+b"
      ],
      "metadata": {
        "colab": {
          "base_uri": "https://localhost:8080/"
        },
        "id": "bwnY1krmgR54",
        "outputId": "7f8d1847-464b-457d-bd4f-8163261e74a2"
      },
      "execution_count": null,
      "outputs": [
        {
          "output_type": "stream",
          "name": "stdout",
          "text": [
            "Enter a Number : 100\n",
            "0\n",
            "1\n",
            "1\n",
            "2\n",
            "3\n",
            "5\n",
            "8\n",
            "13\n",
            "21\n",
            "34\n",
            "55\n",
            "89\n"
          ]
        }
      ]
    },
    {
      "cell_type": "code",
      "source": [
        "# Q4\n",
        "g=0\n",
        "while 1:\n",
        "  a = input(\"Enter \")\n",
        "  if a==\"done\":\n",
        "    break\n",
        "  a=int(a)\n",
        "  if a>g:\n",
        "    g=a\n",
        "  print(f\"Greatest Number is {g}\")\n"
      ],
      "metadata": {
        "colab": {
          "base_uri": "https://localhost:8080/"
        },
        "id": "k1PtVmxng5-M",
        "outputId": "306326aa-74fd-4e04-e033-3f1e1c0a9f7f"
      },
      "execution_count": null,
      "outputs": [
        {
          "name": "stdout",
          "output_type": "stream",
          "text": [
            "Enter 50\n",
            "Greatest Number is 50\n",
            "Enter 30\n",
            "Greatest Number is 50\n",
            "Enter 60\n",
            "Greatest Number is 60\n",
            "Enter done\n"
          ]
        }
      ]
    },
    {
      "cell_type": "code",
      "source": [
        "# Q5\n",
        "a = int(input(\"Enter a Number : \"))\n",
        "b = int((a+1)/2)\n",
        "c = b*b\n",
        "d = int((a*(a+1))/2)-c\n",
        "print(f\"Sum of Odd Numbers is : {c}\")\n",
        "print(f\"Sum of Even Numbers is : {d}\")\n"
      ],
      "metadata": {
        "colab": {
          "base_uri": "https://localhost:8080/"
        },
        "id": "RSjIO0kChAxW",
        "outputId": "550576d0-ae6c-4c16-82d7-e92463756923"
      },
      "execution_count": null,
      "outputs": [
        {
          "output_type": "stream",
          "name": "stdout",
          "text": [
            "Enter a Number : 4\n",
            "Sum of Odd Numbers is : 4\n",
            "Sum of Even Numbers is : 6\n"
          ]
        }
      ]
    },
    {
      "cell_type": "code",
      "source": [
        "# Q6\n",
        "a = int(input(\"Enter a Number : \"))\n",
        "fact=1\n",
        "while a>1:\n",
        "  fact=fact*a\n",
        "  a=a-1;\n",
        "print(f\"Factorial is : {fact}\")"
      ],
      "metadata": {
        "colab": {
          "base_uri": "https://localhost:8080/"
        },
        "id": "7MiaTIy4iAKi",
        "outputId": "a663bcc8-4526-4981-a2a1-cf3bcce176e9"
      },
      "execution_count": null,
      "outputs": [
        {
          "output_type": "stream",
          "name": "stdout",
          "text": [
            "Enter a Number : 5\n",
            "Factorial is : 120\n"
          ]
        }
      ]
    },
    {
      "cell_type": "code",
      "source": [
        "# Q7\n",
        "a = int(input(\"Enter a Number : \"))\n",
        "i=2\n",
        "x=1\n",
        "while i<a:\n",
        "  if a%i==0:\n",
        "    x=0\n",
        "    break\n",
        "  i=i+1\n",
        "if x==1:\n",
        "  print(\"Number is Prime\")\n",
        "else:\n",
        "  print(\"Number is Not Prime\")\n"
      ],
      "metadata": {
        "colab": {
          "base_uri": "https://localhost:8080/"
        },
        "id": "0dVbmvyoiVZw",
        "outputId": "d4c2b523-a2f9-46d8-8d3b-49ebd0bf44bb"
      },
      "execution_count": null,
      "outputs": [
        {
          "output_type": "stream",
          "name": "stdout",
          "text": [
            "Enter a Number : 12\n",
            "Number is Not Prime\n"
          ]
        }
      ]
    },
    {
      "cell_type": "code",
      "source": [
        "# Q8\n",
        "a = input(\"Enter a String : \")\n",
        "b = len(a)\n",
        "c = a[int(b/2):]\n",
        "i=0\n",
        "x=0\n",
        "c=c[::-1]\n",
        "while i<len(c):\n",
        "  if a[i]!=c[i]:\n",
        "    x=1\n",
        "    break\n",
        "  i=i+1\n",
        "if x==1:\n",
        "  print(\"String is Not Palindrome\")\n",
        "else:\n",
        "  print(\"String is Palindrome\")"
      ],
      "metadata": {
        "colab": {
          "base_uri": "https://localhost:8080/"
        },
        "id": "ysn5rKZ1jfI7",
        "outputId": "adadcbb9-4877-44cb-9d51-521731d3f8d5"
      },
      "execution_count": null,
      "outputs": [
        {
          "output_type": "stream",
          "name": "stdout",
          "text": [
            "Enter a String : abc\n",
            "String is Not Palindrome\n"
          ]
        }
      ]
    },
    {
      "cell_type": "code",
      "source": [
        "# Q9\n",
        "a = input(\"Enter 1st String : \")\n",
        "b = input(\"Enter 2nd String : \")\n",
        "c = \"\"\n",
        "i = 0\n",
        "while i<len(a) and i<len(b):\n",
        "  if a[i]==b[i]:\n",
        "    c = c+a[i]\n",
        "  i=i+1\n",
        "print(f\"Common Charter String is : {c}\")"
      ],
      "metadata": {
        "colab": {
          "base_uri": "https://localhost:8080/"
        },
        "id": "m7_vxihIk-HA",
        "outputId": "ccde869b-0a5d-44c6-b854-733ac08fddee"
      },
      "execution_count": null,
      "outputs": [
        {
          "output_type": "stream",
          "name": "stdout",
          "text": [
            "Enter 1st String : sagra\n",
            "Enter 2nd String : pagpa\n",
            "Common Charter String is : aga\n"
          ]
        }
      ]
    },
    {
      "cell_type": "code",
      "source": [
        "# Q10\n",
        "a = input(\"Enter a String : \")\n",
        "b=0\n",
        "c=0\n",
        "d=0\n",
        "for i in a:\n",
        "  if i=='a' or i=='e' or i=='i' or i=='o' or i=='u' or i=='A' or i=='E' or i=='I' or i=='O' or i=='U':\n",
        "    b=b+1\n",
        "  elif i==' ':\n",
        "    c=c+1\n",
        "d = len(a)-b-c\n",
        "print(f\"Vowels : {b}\")\n",
        "print(f\"Consonents : {d}\")\n",
        "print(f\"Spaces : {c}\")\n",
        "   "
      ],
      "metadata": {
        "colab": {
          "base_uri": "https://localhost:8080/"
        },
        "id": "EGcbm_IQlSZN",
        "outputId": "5189873e-8bbf-4e11-e618-8455c11a5958"
      },
      "execution_count": null,
      "outputs": [
        {
          "output_type": "stream",
          "name": "stdout",
          "text": [
            "Enter a String : Sagar Gupta is\n",
            "Vowels : 5\n",
            "Consonents : 7\n",
            "Spaces : 2\n"
          ]
        }
      ]
    },
    {
      "cell_type": "code",
      "source": [
        "# Q11\n",
        "a = input(\"Enter a String : \")\n",
        "i = 0\n",
        "for x in a:\n",
        "  i=i+1\n",
        "print(f\"Length of String is {i}\")"
      ],
      "metadata": {
        "colab": {
          "base_uri": "https://localhost:8080/"
        },
        "id": "x5DUkULrnBzN",
        "outputId": "5d9a42f4-79f5-468a-e6d7-a3acfe6589bd"
      },
      "execution_count": null,
      "outputs": [
        {
          "output_type": "stream",
          "name": "stdout",
          "text": [
            "Enter a String : papsp\n",
            "Length of String is 5\n"
          ]
        }
      ]
    },
    {
      "cell_type": "code",
      "source": [
        "# Q12\n",
        "a = input(\"Enter a Sentence : \")\n",
        "words=0\n",
        "up=0\n",
        "low=0\n",
        "for i in a:\n",
        "  if i==' ':\n",
        "    words=words+1\n",
        "  elif i.islower():\n",
        "    low=low+1\n",
        "  else:\n",
        "    up=up+1\n",
        "if len(a)!=0:\n",
        "  words=words+1\n",
        "print(f\"Total Words are: {words}\")\n",
        "print(f\"Total Lowercase letters are: {low}\")\n",
        "print(f\"Total Uppercase letters are: {up}\")\n"
      ],
      "metadata": {
        "colab": {
          "base_uri": "https://localhost:8080/"
        },
        "id": "97lMIL6RnV0E",
        "outputId": "9a1b5a46-b709-4409-a6bb-e426d5ab31cb"
      },
      "execution_count": null,
      "outputs": [
        {
          "output_type": "stream",
          "name": "stdout",
          "text": [
            "Enter a Sentence : Sagr gupta is boy\n",
            "Total Words are: 4\n",
            "Total Lowercase letters are: 13\n",
            "Total Uppercase letters are: 1\n"
          ]
        }
      ]
    },
    {
      "cell_type": "code",
      "source": [
        "# Q13\n",
        "a = input(\"Enter a String : \")\n",
        "a = a.swapcase()\n",
        "print(f\"String after Operation is : {a}\")"
      ],
      "metadata": {
        "colab": {
          "base_uri": "https://localhost:8080/"
        },
        "id": "Bp_dNteTogVg",
        "outputId": "5446788e-99fd-49b0-984a-426f724cb7f7"
      },
      "execution_count": null,
      "outputs": [
        {
          "output_type": "stream",
          "name": "stdout",
          "text": [
            "Enter a String : SaGaR\n",
            "String after Operation is : sAgAr\n"
          ]
        }
      ]
    }
  ]
}