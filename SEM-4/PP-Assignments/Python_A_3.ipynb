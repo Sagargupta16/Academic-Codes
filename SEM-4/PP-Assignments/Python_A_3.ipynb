{
  "nbformat": 4,
  "nbformat_minor": 0,
  "metadata": {
    "colab": {
      "provenance": []
    },
    "kernelspec": {
      "name": "python3",
      "display_name": "Python 3"
    },
    "language_info": {
      "name": "python"
    }
  },
  "cells": [
    {
      "cell_type": "code",
      "execution_count": null,
      "metadata": {
        "colab": {
          "base_uri": "https://localhost:8080/"
        },
        "id": "7_g6IJP1WbTU",
        "outputId": "7cc6a2af-9d7b-4b27-ce74-79fd314bba3d"
      },
      "outputs": [
        {
          "output_type": "stream",
          "name": "stdout",
          "text": [
            "Enter a Key to search : 50\n",
            "Key Not Found\n"
          ]
        }
      ],
      "source": [
        "# Q-1\n",
        "l = [5,12,9,3,2,83,44]\n",
        "key = int(input(\"Enter a Key to search : \"))\n",
        "a=0\n",
        "for i in l:\n",
        "  if i==key:\n",
        "    a=1\n",
        "    print(\"Key Found\")\n",
        "    break\n",
        "if a==0:\n",
        "  print(\"Key Not Found\")"
      ]
    },
    {
      "cell_type": "code",
      "source": [
        "# Q-2\n",
        "print(\"Enter 5 Numbers positive or Negative \")\n",
        "l=[]\n",
        "psum=0\n",
        "nsum=0\n",
        "tsum=0\n",
        "for i in range(0,5):\n",
        "  a = int(input())\n",
        "  l.append(a)\n",
        "  if a>0:\n",
        "    psum+=a\n",
        "  else:\n",
        "    nsum+=a\n",
        "  tsum+=a\n",
        "print(f\"Sum of all negative numbers is : {nsum}\")\n",
        "print(f\"Sum of all positive numbers is : {psum}\")\n",
        "average = tsum/5\n",
        "count=0\n",
        "for i in l:\n",
        "  if i>average:\n",
        "    count+=1\n",
        "print(f\"Average of all Numbers is : {average}\")\n",
        "print(f\"Number of Element which are greater than average is : {count}\")"
      ],
      "metadata": {
        "colab": {
          "base_uri": "https://localhost:8080/"
        },
        "id": "c4xU76eRXW8U",
        "outputId": "9c2c5148-bf48-4a21-ac49-c77b016a073b"
      },
      "execution_count": null,
      "outputs": [
        {
          "output_type": "stream",
          "name": "stdout",
          "text": [
            "Enter 5 Numbers positive or Negative \n",
            "5\n",
            "-3\n",
            "6\n",
            "-12\n",
            "5\n",
            "Sum of all negative numbers is : -15\n",
            "Sum of all positive numbers is : 16\n",
            "Average of all Numbers is : 0.2\n",
            "Number of Element which are greater than average is : 3\n"
          ]
        }
      ]
    },
    {
      "cell_type": "code",
      "source": [
        "# Q-3\n",
        "l1 = [1,2,3,4,5,6,7]\n",
        "l2 = [7,6,5,4,3,2,1]\n",
        "l3 = [6,4,2,9,2,1,5]\n",
        "\n",
        "i=0\n",
        "a=0\n",
        "b=0\n",
        "while i<len(l1):\n",
        "  if i!=0 and l1[i]>l1[i-1]:\n",
        "    a=1\n",
        "  if i!=len(l1)-1 and l1[i]>l1[i+1]:\n",
        "    b=1\n",
        "  i+=1\n",
        "if a==1 and b==1:\n",
        "   print(\"Item in list are not sorted\")\n",
        "elif a==0 and b==1:\n",
        "  print(\"Items are in Desending order\")\n",
        "elif b==0 and a==1:\n",
        "  print(\"Items are in Ascending order\")\n",
        "\n",
        "i=0\n",
        "a=0\n",
        "b=0\n",
        "while i<len(l2):\n",
        "  if i!=0 and l2[i]>l2[i-1]:\n",
        "    a=1\n",
        "  if i!=len(l2)-1 and l2[i]>l2[i+1]:\n",
        "    b=1\n",
        "  i+=1\n",
        "if a==1 and b==1:\n",
        "   print(\"Item in list are not sorted\")\n",
        "elif a==0 and b==1:\n",
        "  print(\"Items are in Desending order\")\n",
        "elif b==0 and a==1:\n",
        "  print(\"Items are in Ascending order\")\n",
        "\n",
        "i=0\n",
        "a=0\n",
        "b=0\n",
        "while i<len(l3):\n",
        "  if i!=0 and l3[i]>l3[i-1]:\n",
        "    a=1\n",
        "  if i!=len(l3)-1 and l3[i]>l3[i+1]:\n",
        "    b=1\n",
        "  i+=1\n",
        "if a==1 and b==1:\n",
        "   print(\"Item in list are not sorted\")\n",
        "elif a==0 and b==1:\n",
        "  print(\"Items are in Desending order\")\n",
        "elif b==0 and a==1:\n",
        "  print(\"Items are in Ascending order\")\n"
      ],
      "metadata": {
        "colab": {
          "base_uri": "https://localhost:8080/"
        },
        "id": "XluihL6vZj4K",
        "outputId": "8d72ea19-5ac2-4181-bbeb-7be68d37a0ba"
      },
      "execution_count": null,
      "outputs": [
        {
          "output_type": "stream",
          "name": "stdout",
          "text": [
            "Items are in Ascending order\n",
            "Items are in Desending order\n",
            "Item in list are not sorted\n"
          ]
        }
      ]
    },
    {
      "cell_type": "code",
      "source": [
        "# Q-4\n",
        "dict = {}\n",
        "\n",
        "for i in range(0,3):\n",
        "  a = input(\"Enter Employee Name : \")\n",
        "  b = int(input(\"Enter his salary : \"))\n",
        "  dict[a]=b\n",
        "\n",
        "print(dict)\n"
      ],
      "metadata": {
        "id": "FOH5h0qLblSz",
        "colab": {
          "base_uri": "https://localhost:8080/"
        },
        "outputId": "a491c636-2948-47ee-9e2f-be896d75bb9a"
      },
      "execution_count": null,
      "outputs": [
        {
          "output_type": "stream",
          "name": "stdout",
          "text": [
            "Enter Employee Name : Sagar\n",
            "Enter his salary : 1000\n",
            "Enter Employee Name : Paras\n",
            "Enter his salary : 2000\n",
            "Enter Employee Name : Hello\n",
            "Enter his salary : 50\n",
            "{'Sagar': 1000, 'Paras': 2000, 'Hello': 50}\n"
          ]
        }
      ]
    },
    {
      "cell_type": "code",
      "source": [
        "# Q-5 \n",
        "Sen = input(\"Enter a Sentence : \")\n",
        "dict1 = {}\n",
        "dict2 = {}\n",
        "Sen = Sen.split()\n",
        "for i in Sen:\n",
        "  dict1[i]=len(i)\n",
        "  if len(i) in dict2:\n",
        "    dict2[len(i)]+=1\n",
        "  else:\n",
        "    dict2[len(i)]=1\n",
        "\n",
        "print(dict1)\n",
        "print(dict2)"
      ],
      "metadata": {
        "colab": {
          "base_uri": "https://localhost:8080/"
        },
        "id": "vfZetGmRjZQ-",
        "outputId": "f2c8b04d-5ca0-4d9c-f102-68ab6190a473"
      },
      "execution_count": null,
      "outputs": [
        {
          "output_type": "stream",
          "name": "stdout",
          "text": [
            "Enter a Sentence :  A fat cat is on the mat\n",
            "{'A': 1, 'fat': 3, 'cat': 3, 'is': 2, 'on': 2, 'the': 3, 'mat': 3}\n",
            "{1: 1, 3: 4, 2: 2}\n"
          ]
        }
      ]
    },
    {
      "cell_type": "code",
      "source": [
        "# Q-6\n",
        "l = [1,4,10,5,6,12]\n",
        "dict = {}\n",
        "for i in l:\n",
        "  newdict = {}\n",
        "  newdict[i]= dict;\n",
        "  dict = newdict\n",
        "print(dict)\n"
      ],
      "metadata": {
        "colab": {
          "base_uri": "https://localhost:8080/"
        },
        "id": "8LFVj4Mqk6BI",
        "outputId": "53df5ce5-89c9-4d6d-a3e6-62c70e85ddfe"
      },
      "execution_count": null,
      "outputs": [
        {
          "output_type": "stream",
          "name": "stdout",
          "text": [
            "{12: {6: {5: {10: {4: {1: {}}}}}}}\n"
          ]
        }
      ]
    },
    {
      "cell_type": "code",
      "source": [
        "# Q-7\n",
        "d = {'item1':45,'item2':22,'item3':98,'item4':12,'item5':60}\n",
        "l = sorted(d.items(),key=lambda x:x[1],reverse =True)\n",
        "x=0\n",
        "while x<3:\n",
        "  print(f\"{l[x][0]} {l[x][1]}\")\n",
        "  x+=1"
      ],
      "metadata": {
        "colab": {
          "base_uri": "https://localhost:8080/"
        },
        "id": "EMdBchYklmHZ",
        "outputId": "4181b291-b09e-48f6-f8cb-7b15f88feb8e"
      },
      "execution_count": null,
      "outputs": [
        {
          "output_type": "stream",
          "name": "stdout",
          "text": [
            "item3 98\n",
            "item5 60\n",
            "item1 45\n"
          ]
        }
      ]
    },
    {
      "cell_type": "code",
      "source": [
        "# Q-8\n",
        "dict1 = {'key1':1,'key2':2,'key3':2}\n",
        "dict2 = {'key1':1,'key2':2}\n",
        "for i in dict1:\n",
        "  if i in dict2 and dict1[i]==dict2[i]:\n",
        "    print(f\"{i} is present in both Dictionary\")"
      ],
      "metadata": {
        "colab": {
          "base_uri": "https://localhost:8080/"
        },
        "id": "RL8jxrn5pVuX",
        "outputId": "9c64f320-7f02-4d89-b071-9ca089a58ef1"
      },
      "execution_count": null,
      "outputs": [
        {
          "output_type": "stream",
          "name": "stdout",
          "text": [
            "key1 is present in both Dictionary\n",
            "key2 is present in both Dictionary\n"
          ]
        }
      ]
    }
  ]
}