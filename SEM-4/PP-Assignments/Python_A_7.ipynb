{
  "nbformat": 4,
  "nbformat_minor": 0,
  "metadata": {
    "colab": {
      "provenance": []
    },
    "kernelspec": {
      "name": "python3",
      "display_name": "Python 3"
    },
    "language_info": {
      "name": "python"
    }
  },
  "cells": [
    {
      "cell_type": "code",
      "source": [
        "import re"
      ],
      "metadata": {
        "id": "ZBq1hHA_cGQx"
      },
      "execution_count": null,
      "outputs": []
    },
    {
      "cell_type": "code",
      "execution_count": null,
      "metadata": {
        "colab": {
          "base_uri": "https://localhost:8080/",
          "height": 244
        },
        "id": "kbh7W_XXbX-P",
        "outputId": "6d0c81d4-ed0b-4ead-e416-2e751c9b0295"
      },
      "outputs": [
        {
          "output_type": "error",
          "ename": "FileNotFoundError",
          "evalue": "ignored",
          "traceback": [
            "\u001b[0;31m---------------------------------------------------------------------------\u001b[0m",
            "\u001b[0;31mFileNotFoundError\u001b[0m                         Traceback (most recent call last)",
            "\u001b[0;32m<ipython-input-1-9d558caa89f0>\u001b[0m in \u001b[0;36m<cell line: 2>\u001b[0;34m()\u001b[0m\n\u001b[1;32m      1\u001b[0m \u001b[0;31m# Q-1\u001b[0m\u001b[0;34m\u001b[0m\u001b[0;34m\u001b[0m\u001b[0m\n\u001b[0;32m----> 2\u001b[0;31m \u001b[0;32mwith\u001b[0m \u001b[0mopen\u001b[0m\u001b[0;34m(\u001b[0m\u001b[0;34m\"/content/q1.txt\"\u001b[0m\u001b[0;34m)\u001b[0m \u001b[0;32mas\u001b[0m \u001b[0mf\u001b[0m\u001b[0;34m:\u001b[0m\u001b[0;34m\u001b[0m\u001b[0;34m\u001b[0m\u001b[0m\n\u001b[0m\u001b[1;32m      3\u001b[0m         \u001b[0mdate\u001b[0m \u001b[0;34m=\u001b[0m \u001b[0mf\u001b[0m\u001b[0;34m.\u001b[0m\u001b[0mread\u001b[0m\u001b[0;34m(\u001b[0m\u001b[0;34m)\u001b[0m\u001b[0;34m\u001b[0m\u001b[0;34m\u001b[0m\u001b[0m\n\u001b[1;32m      4\u001b[0m \u001b[0mprint\u001b[0m\u001b[0;34m(\u001b[0m\u001b[0;34m\"Original date:\"\u001b[0m\u001b[0;34m)\u001b[0m\u001b[0;34m\u001b[0m\u001b[0;34m\u001b[0m\u001b[0m\n\u001b[1;32m      5\u001b[0m \u001b[0mprint\u001b[0m\u001b[0;34m(\u001b[0m\u001b[0mdate\u001b[0m\u001b[0;34m)\u001b[0m\u001b[0;34m\u001b[0m\u001b[0;34m\u001b[0m\u001b[0m\n",
            "\u001b[0;31mFileNotFoundError\u001b[0m: [Errno 2] No such file or directory: '/content/q1.txt'"
          ]
        }
      ],
      "source": [
        "# Q-1\n",
        "with open(\"/content/q1.txt\") as f:\n",
        "\tdate = f.read()\n",
        "print(\"Original date:\")\n",
        "print(date)\n",
        "mdate = re.sub(r'(\\d{4})-(\\d{1,2})-(\\d{1,2})','\\\\3-\\\\2-\\\\1', date)\n",
        "print(\"Modified date:\")\n",
        "print(mdate)"
      ]
    },
    {
      "cell_type": "code",
      "source": [
        "# Q-2\n",
        "string = 'Master Sagar Gupta'\n",
        "print(\"Original string: \", string)\n",
        "print(\"Modified string: \", re.sub('Master', 'Mr.', string))"
      ],
      "metadata": {
        "colab": {
          "base_uri": "https://localhost:8080/"
        },
        "id": "27aFGEtOc2pP",
        "outputId": "01bd4662-7873-4528-ecc4-475ef250c893"
      },
      "execution_count": null,
      "outputs": [
        {
          "output_type": "stream",
          "name": "stdout",
          "text": [
            "Original string:  Master Sagar Gupta\n",
            "Modified string:  Mr. Sagar Gupta\n"
          ]
        }
      ]
    },
    {
      "cell_type": "code",
      "source": [
        "# Q-3\n",
        "string = 'Sagar is Super Genius'\n",
        "print(string)\n",
        "print(\"Five characters long words are : \", re.findall(r\"\\b\\w{5}\\b\", string))"
      ],
      "metadata": {
        "colab": {
          "base_uri": "https://localhost:8080/"
        },
        "id": "f5NgRv8pdDbX",
        "outputId": "e8afd2d5-3ce4-40cb-cb68-ac6681d36ef3"
      },
      "execution_count": null,
      "outputs": [
        {
          "output_type": "stream",
          "name": "stdout",
          "text": [
            "Sagar is Super Genius\n",
            "Five characters long words are :  []\n"
          ]
        }
      ]
    },
    {
      "cell_type": "code",
      "source": [
        "# Q-4\n",
        "string = \"Some Numbers Are 15 23 900 8320 271 69 01\"\n",
        "print(string)\n",
        "print(\"Numbers of length between 1-3 \", re.findall(r\"\\b\\d{1,3}\\b\", string))"
      ],
      "metadata": {
        "colab": {
          "base_uri": "https://localhost:8080/"
        },
        "id": "_4OU1FObdPcJ",
        "outputId": "b38ffd01-6774-4503-e8c6-97f008bd2dca"
      },
      "execution_count": null,
      "outputs": [
        {
          "output_type": "stream",
          "name": "stdout",
          "text": [
            "Some Numbers Are 15 23 900 8320 271 69 01\n",
            "Numbers of length between 1-3  ['15', '23', '900', '271', '69', '01']\n"
          ]
        }
      ]
    },
    {
      "cell_type": "code",
      "source": [
        "# Q-5\n",
        "String = 'Harry Potter , Lily Potter , Ron Weisely , Gridle ward'\n",
        "pattern = 'Potter'\n",
        "c=len( re.findall(pattern, String))\n",
        "print(\"String: \",String,\"\\npattern: \",pattern)\n",
        "print(f\"Total {c} occurances\")"
      ],
      "metadata": {
        "colab": {
          "base_uri": "https://localhost:8080/"
        },
        "id": "kCGzfEJ8doKj",
        "outputId": "203e06b6-0a60-419d-c223-f00b02c98bee"
      },
      "execution_count": null,
      "outputs": [
        {
          "output_type": "stream",
          "name": "stdout",
          "text": [
            "String:  Harry Potter , Lily Potter , Ron Weisely , Gridle ward \n",
            "pattern:  Potter\n",
            "Total 2 occurances\n"
          ]
        }
      ]
    }
  ]
}