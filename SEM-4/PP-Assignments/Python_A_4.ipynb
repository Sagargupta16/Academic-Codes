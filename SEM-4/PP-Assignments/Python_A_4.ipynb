{
  "nbformat": 4,
  "nbformat_minor": 0,
  "metadata": {
    "colab": {
      "provenance": []
    },
    "kernelspec": {
      "name": "python3",
      "display_name": "Python 3"
    },
    "language_info": {
      "name": "python"
    }
  },
  "cells": [
    {
      "cell_type": "code",
      "execution_count": null,
      "metadata": {
        "colab": {
          "base_uri": "https://localhost:8080/"
        },
        "id": "R7HafaC1lJQz",
        "outputId": "14a454ce-e2a3-4a43-fb5d-c6f8296fd520"
      },
      "outputs": [
        {
          "output_type": "stream",
          "name": "stdout",
          "text": [
            "Enter Country Name : India\n",
            "Enter It's Capital : Delhi\n",
            "Enter 1 for exit else 0 :0\n",
            "Enter Country Name : Pakistan\n",
            "Enter It's Capital : xyz\n",
            "Enter 1 for exit else 0 :0\n",
            "Enter Country Name : Afganistan\n",
            "Enter It's Capital : abc\n",
            "Enter 1 for exit else 0 :1\n",
            "Afganistan : abc\n",
            "India : Delhi\n",
            "Pakistan : xyz\n"
          ]
        }
      ],
      "source": [
        "from re import L\n",
        "# Q-1\n",
        "d = {}\n",
        "while True:\n",
        "  a = input(\"Enter Country Name : \")\n",
        "  b = input(\"Enter It's Capital : \")\n",
        "  d[a]=b\n",
        "  c = int(input(\"Enter 1 for exit else 0 :\"))\n",
        "  if c==1:\n",
        "    break\n",
        "\n",
        "l = list(d.keys())\n",
        "l.sort()\n",
        "for i in l:\n",
        "  print(f\"{i} : {d[i]}\")\n",
        "\n"
      ]
    },
    {
      "cell_type": "code",
      "source": [
        "# Q-2\n",
        "d = {\"sag\":9872,\"par\":9882,\"uta\":2728};\n",
        "while True:\n",
        "  a = input(\"Enter Name : \")\n",
        "  a = a.lower()\n",
        "  if a in d:\n",
        "    print(f\"Phone No. of {a} is {d[a]}\")\n",
        "  else :\n",
        "    b = input(\"Enter No. : \")\n",
        "    d[a]=b\n",
        "  c = int(input(\"Enter 1 for exit else 0 :\"))\n",
        "  if c==1:\n",
        "    break\n",
        "\n",
        "l = list(d.keys())\n",
        "l.sort()\n",
        "for i in l:\n",
        "  print(f\"{i} : {d[i]}\")"
      ],
      "metadata": {
        "colab": {
          "base_uri": "https://localhost:8080/"
        },
        "id": "Q9LKR3CRmHjW",
        "outputId": "d0ddd822-74a6-4868-9860-60c748fa5f6b"
      },
      "execution_count": null,
      "outputs": [
        {
          "output_type": "stream",
          "name": "stdout",
          "text": [
            "Enter Name : sagar\n",
            "Enter No. : 8958\n",
            "Enter 1 for exit else 0 :0\n",
            "Enter Name : sag\n",
            "Phone No. of sag is 9872\n",
            "Enter 1 for exit else 0 :1\n",
            "par : 9882\n",
            "sag : 9872\n",
            "sagar : 8958\n",
            "uta : 2728\n"
          ]
        }
      ]
    },
    {
      "cell_type": "code",
      "source": [
        "# Q-3\n",
        "def abc():\n",
        "    return 1,2,3,\"Sagar\"\n",
        "\n",
        "a = abc()\n",
        "print(a)\n"
      ],
      "metadata": {
        "colab": {
          "base_uri": "https://localhost:8080/"
        },
        "id": "IOVzmqvWmHn4",
        "outputId": "3c6f8f8a-f11d-4202-a6e4-5942a27fc4a8"
      },
      "execution_count": null,
      "outputs": [
        {
          "output_type": "stream",
          "name": "stdout",
          "text": [
            "(1, 2, 3, 'Sagar')\n"
          ]
        }
      ]
    },
    {
      "cell_type": "code",
      "source": [
        "# Q-4\n",
        "x = input(\"Enter a Sentence : \")\n",
        "x = x.lower()\n",
        "l = x.split()\n",
        "print(l)\n",
        "l.sort(key=len,reverse = True)\n",
        "\n",
        "for i in l:\n",
        "  print(f\"{i} : {len(i)}\")\n"
      ],
      "metadata": {
        "colab": {
          "base_uri": "https://localhost:8080/"
        },
        "id": "hA67rl3_mHrU",
        "outputId": "342f1639-2d23-4ffa-edc2-033bbe6783e7"
      },
      "execution_count": null,
      "outputs": [
        {
          "output_type": "stream",
          "name": "stdout",
          "text": [
            "Enter a Sentence : sagar is my name\n",
            "['sagar', 'is', 'my', 'name']\n",
            "sagar : 5\n",
            "name : 4\n",
            "is : 2\n",
            "my : 2\n"
          ]
        }
      ]
    },
    {
      "cell_type": "code",
      "source": [
        "# Q-5\n",
        "l = [\"sagar\",\"paras\",\"shivam\",\"anyone\"]\n",
        "a = len(l)\n",
        "for i in range(0,a-1):\n",
        "  for j in range(i+1,a):\n",
        "    if l[i]>l[j]:\n",
        "      l[i],l[j]=l[j],l[i]\n",
        "\n",
        "print(l)"
      ],
      "metadata": {
        "colab": {
          "base_uri": "https://localhost:8080/"
        },
        "id": "kTPE4tenmHty",
        "outputId": "21b55b97-d55b-42a0-ac1f-8045caa4a35b"
      },
      "execution_count": null,
      "outputs": [
        {
          "output_type": "stream",
          "name": "stdout",
          "text": [
            "['anyone', 'paras', 'sagar', 'shivam']\n"
          ]
        }
      ]
    }
  ]
}