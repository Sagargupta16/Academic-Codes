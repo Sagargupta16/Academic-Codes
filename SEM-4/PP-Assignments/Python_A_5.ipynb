{
  "nbformat": 4,
  "nbformat_minor": 0,
  "metadata": {
    "colab": {
      "provenance": []
    },
    "kernelspec": {
      "name": "python3",
      "display_name": "Python 3"
    },
    "language_info": {
      "name": "python"
    }
  },
  "cells": [
    {
      "cell_type": "code",
      "execution_count": null,
      "metadata": {
        "colab": {
          "base_uri": "https://localhost:8080/"
        },
        "id": "olkr4svIDT16",
        "outputId": "c0b4f07b-08c5-4d3c-b2c5-624fd80cca84"
      },
      "outputs": [
        {
          "output_type": "stream",
          "name": "stdout",
          "text": [
            "{6: {5: {4: {3: {2: {1: {}}}}}}}\n"
          ]
        }
      ],
      "source": [
        "#1\n",
        "l = [1,2,3,4,5,6]\n",
        "d = {}\n",
        "for i in l:\n",
        "  newD = {}\n",
        "  newD[i]=d\n",
        "  d=newD\n",
        "print(d)"
      ]
    },
    {
      "cell_type": "code",
      "source": [
        "#2\n",
        "d = {\"sg123\":\"123\",\"abcde\":\"543\",\"sagargupta\":\"sagar\",\"Someone\":\"ok\",\"Heee\":\"h\"}\n",
        "new_d = dict.fromkeys(d,\"Sagar\")\n",
        "\n",
        "print(new_d)\n",
        "\n",
        "new_d.clear()\n",
        "print(new_d)\n"
      ],
      "metadata": {
        "id": "AQaQC26MDaz2",
        "colab": {
          "base_uri": "https://localhost:8080/"
        },
        "outputId": "ea138fb6-c3ec-4a38-a8f1-b02c92fd9d56"
      },
      "execution_count": null,
      "outputs": [
        {
          "output_type": "stream",
          "name": "stdout",
          "text": [
            "{'sg123': 'Sagar', 'abcde': 'Sagar', 'sagargupta': 'Sagar', 'Someone': 'Sagar', 'Heee': 'Sagar'}\n",
            "{}\n"
          ]
        }
      ]
    },
    {
      "cell_type": "code",
      "source": [
        "help(dict.fromkeys)"
      ],
      "metadata": {
        "colab": {
          "base_uri": "https://localhost:8080/"
        },
        "id": "8xG70TCnx2vn",
        "outputId": "26ffa008-8329-4308-81b9-1bfadf6a8cc2"
      },
      "execution_count": null,
      "outputs": [
        {
          "output_type": "stream",
          "name": "stdout",
          "text": [
            "Help on built-in function fromkeys:\n",
            "\n",
            "fromkeys(iterable, value=None, /) method of builtins.type instance\n",
            "    Create a new dictionary with keys from iterable and values set to value.\n",
            "\n"
          ]
        }
      ]
    },
    {
      "cell_type": "code",
      "source": [
        "#3\n",
        "d = {\"Sagar\":7829,\"Paras\":7388,\"Someone\":43984,\"xyz\":4939}\n",
        "sorted_d = sorted(d)\n",
        "\n",
        "for i in sorted_d:\n",
        "  print(f\"{i}:{d[i]}\")\n",
        "\n",
        "x=input(\"Enter Name : \")\n",
        "if x in d:\n",
        "  print(f\"Name is present with value : {d[x]}\")\n",
        "else:\n",
        "  c=input(\"Enter its Number : \")\n",
        "  d[x]=c\n",
        "\n",
        "print(d)\n"
      ],
      "metadata": {
        "id": "7rcmpiK1DbD-",
        "colab": {
          "base_uri": "https://localhost:8080/"
        },
        "outputId": "b694b703-6bad-4f3b-e90e-008bc1026189"
      },
      "execution_count": null,
      "outputs": [
        {
          "output_type": "stream",
          "name": "stdout",
          "text": [
            "Paras:7388\n",
            "Sagar:7829\n",
            "Someone:43984\n",
            "xyz:4939\n",
            "Enter Name : Anyone\n",
            "Enter its Number : 5432\n",
            "{'Sagar': 7829, 'Paras': 7388, 'Someone': 43984, 'xyz': 4939, 'Anyone': '5432'}\n"
          ]
        }
      ]
    },
    {
      "cell_type": "code",
      "source": [
        "#4\n",
        "a = (1,2,3,4,5)\n",
        "x = 7\n",
        "if x in a:\n",
        "  print(\"Item Exists\")\n",
        "else:\n",
        "  print(\"Item don't Exists\")"
      ],
      "metadata": {
        "colab": {
          "base_uri": "https://localhost:8080/"
        },
        "id": "rhb2sOCyDbPJ",
        "outputId": "c85e49d8-f17b-43b0-a00d-fa583eab33b1"
      },
      "execution_count": null,
      "outputs": [
        {
          "output_type": "stream",
          "name": "stdout",
          "text": [
            "Item don't Exists\n"
          ]
        }
      ]
    },
    {
      "cell_type": "code",
      "source": [
        "#5\n",
        "a=int(input(\"Enter Starting of Range : \"))\n",
        "b=int(input(\"Enter Ending of Range : \"))\n",
        "c=[]\n",
        "for i in range(a,b+1):\n",
        "  x=(i,i*i)\n",
        "  c.append(x)\n",
        "print(c)"
      ],
      "metadata": {
        "id": "DicIvWrvDbYZ",
        "colab": {
          "base_uri": "https://localhost:8080/"
        },
        "outputId": "deb66767-c22c-4259-f53b-b904612c4507"
      },
      "execution_count": null,
      "outputs": [
        {
          "output_type": "stream",
          "name": "stdout",
          "text": [
            "Enter Starting of Range : 5\n",
            "Enter Ending of Range : 10\n",
            "[(5, 25), (6, 36), (7, 49), (8, 64), (9, 81), (10, 100)]\n"
          ]
        }
      ]
    },
    {
      "cell_type": "code",
      "source": [
        "#6a\n",
        "s = \"ABCDEFGHIJ\"\n",
        "for i in s:\n",
        "  for j in range(0,10):\n",
        "    print(i,end=\" \")\n",
        "  print()\n"
      ],
      "metadata": {
        "colab": {
          "base_uri": "https://localhost:8080/"
        },
        "id": "XyhwwunqDbgu",
        "outputId": "6420b1fb-d52f-468b-f3ba-5d460b164a65"
      },
      "execution_count": null,
      "outputs": [
        {
          "output_type": "stream",
          "name": "stdout",
          "text": [
            "A A A A A A A A A A \n",
            "B B B B B B B B B B \n",
            "C C C C C C C C C C \n",
            "D D D D D D D D D D \n",
            "E E E E E E E E E E \n",
            "F F F F F F F F F F \n",
            "G G G G G G G G G G \n",
            "H H H H H H H H H H \n",
            "I I I I I I I I I I \n",
            "J J J J J J J J J J \n"
          ]
        }
      ]
    },
    {
      "cell_type": "code",
      "source": [
        "#6b\n",
        "x = int(input())\n",
        "for i in range(1,x+1):\n",
        "  for j in range(0,i):\n",
        "    print(\"*\",end=\" \")\n",
        "  print()\n"
      ],
      "metadata": {
        "colab": {
          "base_uri": "https://localhost:8080/"
        },
        "id": "jkcerhsLHjyF",
        "outputId": "aea0631b-04f6-4eae-9c6b-77eec0d550df"
      },
      "execution_count": null,
      "outputs": [
        {
          "output_type": "stream",
          "name": "stdout",
          "text": [
            "5\n",
            "* \n",
            "* * \n",
            "* * * \n",
            "* * * * \n",
            "* * * * * \n"
          ]
        }
      ]
    },
    {
      "cell_type": "code",
      "source": [
        "#6c\n",
        "x = int(input())\n",
        "for i in range(1,x+1):\n",
        "  for j in range(i,x+1):\n",
        "    print(f\"{i}\",end=\" \")\n",
        "  print()"
      ],
      "metadata": {
        "colab": {
          "base_uri": "https://localhost:8080/"
        },
        "id": "C3c0bDi6IsZU",
        "outputId": "b3d9698d-1dd3-4078-9343-faa4a03753bd"
      },
      "execution_count": null,
      "outputs": [
        {
          "output_type": "stream",
          "name": "stdout",
          "text": [
            "10\n",
            "1 1 1 1 1 1 1 1 1 1 \n",
            "2 2 2 2 2 2 2 2 2 \n",
            "3 3 3 3 3 3 3 3 \n",
            "4 4 4 4 4 4 4 \n",
            "5 5 5 5 5 5 \n",
            "6 6 6 6 6 \n",
            "7 7 7 7 \n",
            "8 8 8 \n",
            "9 9 \n",
            "10 \n"
          ]
        }
      ]
    },
    {
      "cell_type": "code",
      "source": [
        "#6d\n",
        "x=int(input())\n",
        "for i in range(1,x+1):\n",
        "  for j in range(i,x):\n",
        "    print(\"\",end=\" \")\n",
        "  for j in range(1,i+1):\n",
        "    print(f\"{j}\",end=\" \")\n",
        "  print()\n"
      ],
      "metadata": {
        "colab": {
          "base_uri": "https://localhost:8080/"
        },
        "id": "AIFPKyRQJA92",
        "outputId": "9148f995-1ba7-4222-e64b-17f3da5ab071"
      },
      "execution_count": null,
      "outputs": [
        {
          "output_type": "stream",
          "name": "stdout",
          "text": [
            "10\n",
            "         1 \n",
            "        1 2 \n",
            "       1 2 3 \n",
            "      1 2 3 4 \n",
            "     1 2 3 4 5 \n",
            "    1 2 3 4 5 6 \n",
            "   1 2 3 4 5 6 7 \n",
            "  1 2 3 4 5 6 7 8 \n",
            " 1 2 3 4 5 6 7 8 9 \n",
            "1 2 3 4 5 6 7 8 9 10 \n"
          ]
        }
      ]
    }
  ]
}