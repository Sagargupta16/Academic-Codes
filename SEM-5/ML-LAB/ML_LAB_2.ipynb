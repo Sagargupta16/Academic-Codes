{
  "nbformat": 4,
  "nbformat_minor": 0,
  "metadata": {
    "colab": {
      "provenance": [],
      "authorship_tag": "ABX9TyO38E7pVcImIobV4VpodltU",
      "include_colab_link": true
    },
    "kernelspec": {
      "name": "python3",
      "display_name": "Python 3"
    },
    "language_info": {
      "name": "python"
    }
  },
  "cells": [
    {
      "cell_type": "markdown",
      "metadata": {
        "id": "view-in-github",
        "colab_type": "text"
      },
      "source": [
        "<a href=\"https://colab.research.google.com/github/Sagargupta16/ML-Lab-Codes/blob/main/ML_LAB_2.ipynb\" target=\"_parent\"><img src=\"https://colab.research.google.com/assets/colab-badge.svg\" alt=\"Open In Colab\"/></a>"
      ]
    },
    {
      "cell_type": "code",
      "source": [
        "import numpy as np\n",
        "import scipy as sp\n",
        "import pandas as pd"
      ],
      "metadata": {
        "id": "L_xhaXIqE99B"
      },
      "execution_count": 1,
      "outputs": []
    },
    {
      "cell_type": "code",
      "execution_count": 2,
      "metadata": {
        "colab": {
          "base_uri": "https://localhost:8080/"
        },
        "id": "tugh4AjKDy9w",
        "outputId": "158d41df-7b9f-448f-a906-b4139a52665a"
      },
      "outputs": [
        {
          "output_type": "stream",
          "name": "stdout",
          "text": [
            "Two Random Integer Matrices of 5X6 are : \n",
            "1st Matrix is : \n",
            "[[3 5 6 1 9 3]\n",
            " [1 1 4 6 7 6]\n",
            " [9 3 7 3 7 8]\n",
            " [9 1 2 9 1 1]\n",
            " [5 1 8 3 6 3]]\n",
            "2nd Matrix is : \n",
            "[[8 3 9 2 7 1]\n",
            " [7 8 1 6 6 1]\n",
            " [4 3 9 1 4 3]\n",
            " [7 1 4 8 7 2]\n",
            " [3 3 5 9 9 7]]\n",
            "Transpose of 1st Matrix is : \n",
            "[[3 1 9 9 5]\n",
            " [5 1 3 1 1]\n",
            " [6 4 7 2 8]\n",
            " [1 6 3 9 3]\n",
            " [9 7 7 1 6]\n",
            " [3 6 8 1 3]]\n",
            "Transpose of 2nd Matrix is : \n",
            "[[8 7 4 7 3]\n",
            " [3 8 3 1 3]\n",
            " [9 1 9 4 5]\n",
            " [2 6 1 8 9]\n",
            " [7 6 4 7 9]\n",
            " [1 1 3 2 7]]\n",
            "Dot Product of 1st matrix and its Transpose is : \n",
            "[[161 119 174  65 134]\n",
            " [119 139 155  85 116]\n",
            " [174 155 261 140 179]\n",
            " [ 65  85 140 169  98]\n",
            " [134 116 179  98 144]]\n",
            "Dot Product of 2nd matrix and its Transpose is : \n",
            "[[208 144 155 162 166]\n",
            " [144 187  94 153 165]\n",
            " [155  94 132 109 132]\n",
            " [162 153 109 183 193]\n",
            " [166 165 132 193 254]]\n",
            "Performing 12*X.XT + 15*(Y.YT)^2 + 108 Operation Matrix is : \n",
            "[[5074 3690 4435 3300 4204]\n",
            " [3690 4375 3240 3229 3957]\n",
            " [4435 3240 5014 3229 4174]\n",
            " [3300 3229 3229 4811 3977]\n",
            " [4204 3957 4174 3977 5580]]\n",
            "Trace of Final answer is : \n",
            "24854\n"
          ]
        }
      ],
      "source": [
        "# Q-1\n",
        "\n",
        "X = np.random.randint(1,10,size=(5,6))\n",
        "Y = np.random.randint(1,10,size=(5,6))\n",
        "\n",
        "print(\"Two Random Integer Matrices of 5X6 are : \")\n",
        "print(\"1st Matrix is : \")\n",
        "print(X)\n",
        "\n",
        "print(\"2nd Matrix is : \")\n",
        "print(Y)\n",
        "\n",
        "XT = X.T\n",
        "YT = Y.T\n",
        "print(\"Transpose of 1st Matrix is : \")\n",
        "print(XT)\n",
        "print(\"Transpose of 2nd Matrix is : \")\n",
        "print(YT)\n",
        "\n",
        "XX = np.dot(X,XT)\n",
        "YY = np.dot(Y,YT)\n",
        "print(\"Dot Product of 1st matrix and its Transpose is : \")\n",
        "print(XX)\n",
        "\n",
        "print(\"Dot Product of 2nd matrix and its Transpose is : \")\n",
        "print(YY)\n",
        "\n",
        "ans = 12*XX+(15*YY)^2+108\n",
        "print(\"Performing 12*X.XT + 15*(Y.YT)^2 + 108 Operation Matrix is : \")\n",
        "print(ans)\n",
        "\n",
        "\n",
        "print(\"Trace of Final answer is : \" )\n",
        "print(np.trace(ans))"
      ]
    },
    {
      "cell_type": "code",
      "source": [
        "# Q-2\n",
        "data = pd.read_csv(\"train.csv\")\n",
        "\n",
        "# A\n",
        "c_below_10 = data[data['Age'] < 10]\n",
        "c_survived = c_below_10[c_below_10['Survived'] == 1]\n",
        "print(\"Number of children below 10 survived:\", len(c_survived))\n",
        "print(\"Total number of children below 10:\", len(c_below_10))\n",
        "print()\n",
        "\n",
        "# B\n",
        "sur_class = data.groupby('Pclass')['Survived'].mean() * 100\n",
        "print(\"Survival percentage by passenger class:\")\n",
        "for classs,i in sur_class.items():\n",
        "    print(f\"Class {classs} Survival Percentage:\", i)\n",
        "print()\n",
        "\n",
        "# C\n",
        "sur_gender = data.groupby('Sex')['Survived'].mean() * 100\n",
        "print(\"Survival percentage by gender:\")\n",
        "for gender,i in sur_gender.items():\n",
        "    print(f\"{gender} Survival Percentage:\", i)"
      ],
      "metadata": {
        "colab": {
          "base_uri": "https://localhost:8080/"
        },
        "id": "TGdEnoE6G3ei",
        "outputId": "4c69916f-e698-4ba8-e4f8-86b64a895f84"
      },
      "execution_count": null,
      "outputs": [
        {
          "output_type": "stream",
          "name": "stdout",
          "text": [
            "Number of children below 10 survived: 38\n",
            "Total number of children below 10: 62\n",
            "\n",
            "Survival percentage by passenger class:\n",
            "Class 1 Survival Percentage: 62.96296296296296\n",
            "Class 2 Survival Percentage: 47.28260869565217\n",
            "Class 3 Survival Percentage: 24.236252545824847\n",
            "\n",
            "Survival percentage by gender:\n",
            "female Survival Percentage: 74.20382165605095\n",
            "male Survival Percentage: 18.890814558058924\n"
          ]
        }
      ]
    },
    {
      "cell_type": "code",
      "source": [
        "# Q-3\n",
        "import numpy as np\n",
        "from scipy.optimize import fsolve\n",
        "\n",
        "# Define the system of equations\n",
        "def equations(vars):\n",
        "    x, y = vars\n",
        "    eq1 = x**2 + y**3 + 2*x*y + 5\n",
        "    eq2 = x + y - 6\n",
        "    return [eq1, eq2]\n",
        "\n",
        "# Initial guess\n",
        "initial_guess = [54, 6]\n",
        "\n",
        "# Solve the system of equations\n",
        "solution = fsolve(equations, initial_guess)\n",
        "\n",
        "print(\"Solution:\")\n",
        "print(\"x =\", solution[0])\n",
        "print(\"y =\", solution[1])\n"
      ],
      "metadata": {
        "colab": {
          "base_uri": "https://localhost:8080/"
        },
        "id": "7tWKgoofG7Hv",
        "outputId": "ebad613e-4fe4-466b-d3e8-8fe63a207fcf"
      },
      "execution_count": 8,
      "outputs": [
        {
          "output_type": "stream",
          "name": "stdout",
          "text": [
            "Solution:\n",
            "x = 9.145047308291792\n",
            "y = -3.1450473082917934\n"
          ]
        }
      ]
    }
  ]
}