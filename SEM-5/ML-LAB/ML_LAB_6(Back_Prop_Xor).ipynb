{
  "nbformat": 4,
  "nbformat_minor": 0,
  "metadata": {
    "colab": {
      "provenance": [],
      "authorship_tag": "ABX9TyPUz5kqF02WhSreVhQ/bdtH",
      "include_colab_link": true
    },
    "kernelspec": {
      "name": "python3",
      "display_name": "Python 3"
    },
    "language_info": {
      "name": "python"
    }
  },
  "cells": [
    {
      "cell_type": "markdown",
      "metadata": {
        "id": "view-in-github",
        "colab_type": "text"
      },
      "source": [
        "<a href=\"https://colab.research.google.com/github/Sagargupta16/ML-Lab-Codes/blob/main/ML_LAB_6(Back_Prop_Xor).ipynb\" target=\"_parent\"><img src=\"https://colab.research.google.com/assets/colab-badge.svg\" alt=\"Open In Colab\"/></a>"
      ]
    },
    {
      "cell_type": "code",
      "source": [
        "import numpy as np\n",
        "def sigmoid(x):\n",
        "    return 1 / (1 + np.exp(-x))\n",
        "\n",
        "def sigmoid_derivative(x):\n",
        "    return x * (1 - x)\n",
        "\n",
        "\n",
        "xor_input = np.array([[0,0],[0,1],[1,0],[1,1]])\n",
        "xor_output = np.array([[0],[1],[1],[0]])\n",
        "\n",
        "epochs = 10000\n",
        "learning_rate = 0.1\n",
        "inputLayer=2\n",
        "hiddenLayer=2\n",
        "outputLayer=1\n",
        "\n",
        "hidden_weights = np.random.uniform(size=(inputLayer, hiddenLayer))\n",
        "hidden_bias = np.random.uniform(size=(1, hiddenLayer))\n",
        "out_weights = np.random.uniform(size=(hiddenLayer, outputLayer))\n",
        "out_bias = np.random.uniform(size=(1, outputLayer))\n",
        "\n",
        "print(\"Start backpropagation hidden weights:   \\n\", end='')\n",
        "print(*hidden_weights)\n",
        "print(\"Start backpropagation output weights:   \\n\", end='')\n",
        "print(*out_weights)\n",
        "x=out_weights\n",
        "\n",
        "\n",
        "# Training algorithm\n",
        "for i in range(epochs):\n",
        "    # Forward Propagation\n",
        "    hidden_layer_activation = np.dot(xor_input, hidden_weights)\n",
        "    hidden_layer_activation += hidden_bias\n",
        "    hidden_layer_output = sigmoid(hidden_layer_activation)\n",
        "\n",
        "    out_layer_activation = np.dot(hidden_layer_output, out_weights)\n",
        "    out_layer_activation += out_bias\n",
        "    predicted_out = sigmoid(out_layer_activation)\n",
        "\n",
        "    # Backpropagation\n",
        "    error = xor_output - predicted_out\n",
        "    b_predicted_output = error * sigmoid_derivative(predicted_out)\n",
        "    error_hidden_layer = b_predicted_output.dot(out_weights.T)\n",
        "    d_hidden_layer = error_hidden_layer * sigmoid_derivative(hidden_layer_output)\n",
        "\n",
        "    # Updating weights and biases\n",
        "    out_weights += hidden_layer_output.T.dot(b_predicted_output) * learning_rate\n",
        "    out_bias += np.sum(b_predicted_output, axis=0, keepdims=True) * learning_rate\n",
        "    hidden_weights += xor_input.T.dot(d_hidden_layer) * learning_rate\n",
        "    hidden_weights += xor_input.T.dot(d_hidden_layer) * learning_rate\n",
        "    hidden_bias += np.sum(d_hidden_layer, axis=0, keepdims=True) * learning_rate\n",
        "\n",
        "    loss = 0.5*np.mean((xor_output-predicted_out)**2)\n",
        "    if i%1000==0 or i==9999:\n",
        "      print(f\"epochs: {i}  Loss: {loss}\")\n",
        "\n",
        "print(\"\\nEnd backpropagation hidden weights: \\n\", end='')\n",
        "print(*hidden_weights)\n",
        "print(\"End backpropagation output weights: \\n\", end='')\n",
        "print(*out_weights)\n",
        "\n",
        "print(\"\\nNon-formatted output from neural network: \\n\", end='')\n",
        "print(*predicted_out)\n",
        "\n",
        "output_format = np.around(predicted_out, decimals=0)\n",
        "output_format = output_format.flatten()\n",
        "print(\"X1  X2    Y\")\n",
        "print(\"0   0   \",output_format[0])\n",
        "print(\"0   1   \",output_format[1])\n",
        "print(\"1   0   \",output_format[2])\n",
        "print(\"1   1   \",output_format[3])"
      ],
      "metadata": {
        "colab": {
          "base_uri": "https://localhost:8080/"
        },
        "id": "Kj81DP4X4rQH",
        "outputId": "a898b33f-f0b3-4306-843e-367b7ad873e2"
      },
      "execution_count": null,
      "outputs": [
        {
          "output_type": "stream",
          "name": "stdout",
          "text": [
            "Start backpropagation hidden weights:   \n",
            "[0.21159758 0.28026829] [0.11710504 0.68925187]\n",
            "Start backpropagation output weights:   \n",
            "[0.88029896] [0.38637573]\n",
            "epochs: 0  Loss: 0.1744473845882738\n",
            "epochs: 1000  Loss: 0.12499866997288676\n",
            "epochs: 2000  Loss: 0.12496081060391649\n",
            "epochs: 3000  Loss: 0.12480580075873034\n",
            "epochs: 4000  Loss: 0.12283978451533573\n",
            "epochs: 5000  Loss: 0.10028930690579421\n",
            "epochs: 6000  Loss: 0.07115097355742189\n",
            "epochs: 7000  Loss: 0.01740578281712203\n",
            "epochs: 8000  Loss: 0.006273003105540086\n",
            "epochs: 9000  Loss: 0.0035486082823108747\n",
            "epochs: 9999  Loss: 0.0024192641861344984\n",
            "\n",
            "End backpropagation hidden weights: \n",
            "[6.44557122 3.7041922 ] [6.50863716 3.71118851]\n",
            "End backpropagation output weights: \n",
            "[6.76581468] [-7.2791285]\n",
            "\n",
            "Non-formatted output from neural network: \n",
            "[0.07100374] [0.93335227] [0.93319798] [0.07354015]\n",
            "X1  X2    Y\n",
            "0   0    0.0\n",
            "0   1    1.0\n",
            "1   0    1.0\n",
            "1   1    0.0\n"
          ]
        }
      ]
    },
    {
      "cell_type": "code",
      "source": [
        "import matplotlib.pyplot as plt\n",
        "\n",
        "plt.scatter(X[0][0],X[0][1], c='red' , marker='^')\n",
        "plt.scatter(X[3][0],X[3][1], c='red' , marker='^')\n",
        "plt.scatter(X[1][0],X[1][1], c='blue' , marker='^')\n",
        "plt.scatter(X[2][0],X[2][1], c='blue' , marker='^')\n",
        "\n",
        "plt.xlabel(\"x1\")\n",
        "plt.ylabel(\"x2\")\n",
        "\n",
        "plt.plot(out_weights)\n",
        "plt.grid()\n",
        "plt.show()"
      ],
      "metadata": {
        "colab": {
          "base_uri": "https://localhost:8080/",
          "height": 449
        },
        "id": "gIbndgaICdFu",
        "outputId": "e2c2b716-97b9-42ee-a38c-8e33a5903ea2"
      },
      "execution_count": null,
      "outputs": [
        {
          "output_type": "display_data",
          "data": {
            "text/plain": [
              "<Figure size 640x480 with 1 Axes>"
            ],
            "image/png": "[encoded data removed]"
          },
          "metadata": {}
        }
      ]
    }
  ]
}