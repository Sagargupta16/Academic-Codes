{
  "nbformat": 4,
  "nbformat_minor": 0,
  "metadata": {
    "colab": {
      "provenance": [],
      "authorship_tag": "ABX9TyNi2YmKomX2Ks4QeLJcVjEM",
      "include_colab_link": true
    },
    "kernelspec": {
      "name": "python3",
      "display_name": "Python 3"
    },
    "language_info": {
      "name": "python"
    }
  },
  "cells": [
    {
      "cell_type": "markdown",
      "metadata": {
        "id": "view-in-github",
        "colab_type": "text"
      },
      "source": [
        "<a href=\"https://colab.research.google.com/github/Sagargupta16/ML-Lab-Codes/blob/main/ML_LAB_4%2C5.ipynb\" target=\"_parent\"><img src=\"https://colab.research.google.com/assets/colab-badge.svg\" alt=\"Open In Colab\"/></a>"
      ]
    },
    {
      "cell_type": "code",
      "execution_count": null,
      "metadata": {
        "id": "j4wN14VFmQxA",
        "colab": {
          "base_uri": "https://localhost:8080/"
        },
        "outputId": "4f0a540d-fc68-494b-d27a-9dee4311cc2a"
      },
      "outputs": [
        {
          "output_type": "stream",
          "name": "stdout",
          "text": [
            "x1    x2    t     O\n",
            "0     0     2     0\n",
            "0     1     2     0\n",
            "1     0     2     0\n",
            "1     1     2     1\n"
          ]
        }
      ],
      "source": [
        "# Q-1 MP neuron for And, Or , Not Gates\n",
        "# a). And Gate\n",
        "x1 = [0, 0, 1, 1]\n",
        "x2 = [0, 1, 0, 1]\n",
        "t=2\n",
        "print(\"x1    x2    t     O\")\n",
        "for i in range(len(x1)):\n",
        "    if ( x1[i] + x2[i] ) >= t:\n",
        "        print(x1[i],'   ',x2[i],'   ',t,'   ', 1)\n",
        "    else:\n",
        "        print(x1[i],'   ',x2[i],'   ',t,'   ', 0)\n"
      ]
    },
    {
      "cell_type": "code",
      "source": [
        "# b). Or Gate\n",
        "t=1\n",
        "print(\"x1    x2    t     O\")\n",
        "for i in range(len(x1)):\n",
        "    if ( x1[i] + x2[i] ) >= t:\n",
        "        print(x1[i],'   ',x2[i],'   ',t,'   ', 1)\n",
        "    else:\n",
        "        print(x1[i],'   ',x2[i],'   ',t,'   ', 0)"
      ],
      "metadata": {
        "colab": {
          "base_uri": "https://localhost:8080/"
        },
        "id": "2861OvDmseXN",
        "outputId": "6e5135ad-6207-41fd-8318-8bee8321e7e8"
      },
      "execution_count": null,
      "outputs": [
        {
          "output_type": "stream",
          "name": "stdout",
          "text": [
            "x1    x2    t     O\n",
            "0     0     1     0\n",
            "0     1     1     1\n",
            "1     0     1     1\n",
            "1     1     1     1\n"
          ]
        }
      ]
    },
    {
      "cell_type": "code",
      "source": [
        "# c). Not Gate\n",
        "x1 = [0,1]\n",
        "t=0\n",
        "print(\"x1    t     O\")\n",
        "for i in range(len(x1)):\n",
        "    if (x1[i])<=t:\n",
        "        print(x1[i],'   ',t,'   ', 1)\n",
        "    else:\n",
        "        print(x1[i],'   ',t,'   ', 0)"
      ],
      "metadata": {
        "colab": {
          "base_uri": "https://localhost:8080/"
        },
        "id": "6zJ5fno-skSF",
        "outputId": "b8346238-64d0-4320-b45c-ce04e32bf153"
      },
      "execution_count": null,
      "outputs": [
        {
          "output_type": "stream",
          "name": "stdout",
          "text": [
            "x1    t     O\n",
            "0     0     1\n",
            "1     0     0\n"
          ]
        }
      ]
    },
    {
      "cell_type": "code",
      "source": [
        "import numpy as np\n",
        "import random\n",
        "import sys\n",
        "\n",
        "and_gate = [\n",
        "# [(inputs), expected output]\n",
        "    [(1, 1), 1],\n",
        "    [(1, -1), -1],\n",
        "    [(-1, 1), -1],\n",
        "    [(-1, -1), -1]\n",
        "]\n",
        "\n",
        "or_gate = [\n",
        "    [(1, 1), 1],\n",
        "    [(1, -1), 1],\n",
        "    [(-1, 1), 1],\n",
        "    [(-1, -1), -1]\n",
        "]\n",
        "\n",
        "def activation_function(x):\n",
        "    if x > 0:\n",
        "        return 1\n",
        "    elif x < 0:\n",
        "        return -1\n",
        "\n",
        "def run_perceptron(gate):\n",
        "    bias = (1,) # the bias is always one\n",
        "    learning_constant = 0.1\n",
        "    n = 50 # how many times the machine learns\n",
        "\n",
        "    weights = []\n",
        "\n",
        "    # initialize with 3 random weights between -1 and 1, one for each input and one for the bias\n",
        "    for i in range(3):\n",
        "        weights.append(random.uniform(-1, 1))\n",
        "\n",
        "    for i in range(n):\n",
        "        inputs, expected_output = random.choice(gate)\n",
        "        inputs = inputs + bias # add the bias here\n",
        "        weighted_sum = np.dot(inputs, weights)\n",
        "        guess = activation_function(weighted_sum) # find the sign of the weighted sum\n",
        "        error = expected_output - guess\n",
        "        weights += learning_constant * error * np.asarray(inputs) # change the weights to include the error times input, won't change if there's no error\n",
        "\n",
        "\n",
        "    inputs, expected_output = random.choice(gate)\n",
        "    print (\"inputs: \" + str(inputs))\n",
        "    inputs = inputs + bias\n",
        "    weighted_sum = np.dot(inputs, weights)\n",
        "    print (\"weighted sum: \" + str(weighted_sum))\n",
        "    print (\"correct answer: \" + str(expected_output))\n",
        "    print (\"perceptron guess: \" + str(activation_function(weighted_sum)) + '\\n')\n",
        "\n",
        "tests = 6\n",
        "\n",
        "for i in range(tests):\n",
        "    print (\"// AND //\")\n",
        "    run_perceptron(and_gate)\n",
        "\n",
        "    print (\"// OR //\")\n",
        "    run_perceptron(or_gate)"
      ],
      "metadata": {
        "colab": {
          "base_uri": "https://localhost:8080/"
        },
        "id": "FyXIYMvT7TFP",
        "outputId": "2c11c998-8d4e-4c3a-9d3a-369fee87a9e9"
      },
      "execution_count": null,
      "outputs": [
        {
          "output_type": "stream",
          "name": "stdout",
          "text": [
            "// AND //\n",
            "inputs: (1, 1)\n",
            "weighted sum: 0.07740613605545393\n",
            "correct answer: 1\n",
            "perceptron guess: 1\n",
            "\n",
            "// OR //\n",
            "inputs: (-1, 1)\n",
            "weighted sum: 0.37914778859440607\n",
            "correct answer: 1\n",
            "perceptron guess: 1\n",
            "\n",
            "// AND //\n",
            "inputs: (1, -1)\n",
            "weighted sum: -0.3710254445352249\n",
            "correct answer: -1\n",
            "perceptron guess: -1\n",
            "\n",
            "// OR //\n",
            "inputs: (1, 1)\n",
            "weighted sum: 1.4274037711118122\n",
            "correct answer: 1\n",
            "perceptron guess: 1\n",
            "\n",
            "// AND //\n",
            "inputs: (-1, 1)\n",
            "weighted sum: -0.46753913647847345\n",
            "correct answer: -1\n",
            "perceptron guess: -1\n",
            "\n",
            "// OR //\n",
            "inputs: (1, 1)\n",
            "weighted sum: 1.6869637107710507\n",
            "correct answer: 1\n",
            "perceptron guess: 1\n",
            "\n",
            "// AND //\n",
            "inputs: (-1, -1)\n",
            "weighted sum: -1.3939252477490882\n",
            "correct answer: -1\n",
            "perceptron guess: -1\n",
            "\n",
            "// OR //\n",
            "inputs: (1, 1)\n",
            "weighted sum: 0.8223015771455336\n",
            "correct answer: 1\n",
            "perceptron guess: 1\n",
            "\n",
            "// AND //\n",
            "inputs: (1, -1)\n",
            "weighted sum: -0.5427003889990645\n",
            "correct answer: -1\n",
            "perceptron guess: -1\n",
            "\n",
            "// OR //\n",
            "inputs: (1, 1)\n",
            "weighted sum: 1.4976680055309757\n",
            "correct answer: 1\n",
            "perceptron guess: 1\n",
            "\n",
            "// AND //\n",
            "inputs: (1, 1)\n",
            "weighted sum: 0.10471978318145392\n",
            "correct answer: 1\n",
            "perceptron guess: 1\n",
            "\n",
            "// OR //\n",
            "inputs: (-1, -1)\n",
            "weighted sum: -1.111711005578928\n",
            "correct answer: -1\n",
            "perceptron guess: -1\n",
            "\n"
          ]
        }
      ]
    },
    {
      "cell_type": "code",
      "source": [
        "# Q-2 Perceptron for And, Or , Not Gates\n",
        "# a). And Gate\n",
        "\n",
        "def step_function(x):\n",
        "    return 1 if x >= 0 else 0\n",
        "\n",
        "and_gate_inputs = np.array([[0, 0], [0, 1], [1, 0], [1, 1]])\n",
        "and_gate_outputs = np.array([0, 0, 0, 1])\n",
        "\n",
        "weights = np.random.rand(2)\n",
        "bias = np.random.rand()\n",
        "\n",
        "learning_rate = 0.1\n",
        "epochs = 1000\n",
        "\n",
        "for epoch in range(epochs):\n",
        "    for i in range(len(and_gate_inputs)):\n",
        "        input_vector = and_gate_inputs[i]\n",
        "        target_output = and_gate_outputs[i]\n",
        "\n",
        "        net_input = np.dot(input_vector, weights) + bias\n",
        "        predicted_output = step_function(net_input)\n",
        "\n",
        "        error = target_output - predicted_output\n",
        "\n",
        "        weights += learning_rate * error * input_vector\n",
        "        bias += learning_rate * error\n",
        "\n",
        "for i in range(len(and_gate_inputs)):\n",
        "    input_vector = and_gate_inputs[i]\n",
        "    output = step_function(np.dot(input_vector,weights)+bias)\n",
        "    print(f\"Input: {input_vector}, Weight: {weights} Output: {output}\")"
      ],
      "metadata": {
        "colab": {
          "base_uri": "https://localhost:8080/"
        },
        "id": "aiBIByCPvUBY",
        "outputId": "11244881-a890-44b3-d45e-482270110f04"
      },
      "execution_count": null,
      "outputs": [
        {
          "output_type": "stream",
          "name": "stdout",
          "text": [
            "x1    x2    w1   w2     t     O\n",
            "0     0     1     1     2     0\n",
            "0     1     1     1     2     0\n",
            "1     0     1     1     2     0\n",
            "1     1     1     1     2     1\n"
          ]
        }
      ]
    },
    {
      "cell_type": "code",
      "source": [
        "# b). Or Gate\n",
        "t = 1\n",
        "print(\"x1    x2    w1   w2     t     O\")\n",
        "for i in range(len(x1)):\n",
        "    if ( x1[i]*w1[i] + x2[i]*w2[i] ) >= t:\n",
        "        print(x1[i],'   ',x2[i],'   ',w1[i],'   ',w2[i],'   ',t,'   ', 1)\n",
        "    else:\n",
        "        print(x1[i],'   ',x2[i],'   ',w1[i],'   ',w2[i],'   ',t,'   ', 0)"
      ],
      "metadata": {
        "colab": {
          "base_uri": "https://localhost:8080/"
        },
        "id": "xVNzWr4HvlSo",
        "outputId": "de5fcfbb-b7ba-45c8-c9a5-2db4a005f6d6"
      },
      "execution_count": null,
      "outputs": [
        {
          "output_type": "stream",
          "name": "stdout",
          "text": [
            "x1    x2    w1   w2     t     O\n",
            "0     0     1     1     1     0\n",
            "0     1     1     1     1     1\n",
            "1     0     1     1     1     1\n",
            "1     1     1     1     1     1\n"
          ]
        }
      ]
    },
    {
      "cell_type": "code",
      "source": [
        "# c). Xor Gate\n",
        "t = 1\n",
        "print(\"x1    x2    w1   w2     t     O\")\n",
        "for i in range(len(x1)):\n",
        "    if ( x1[i]*w1[i] + x2[i]*w2[i] ) == t:\n",
        "        print(x1[i],'   ',x2[i],'   ',w1[i],'   ',w2[i],'   ',t,'   ', 1)\n",
        "    else:\n",
        "        print(x1[i],'   ',x2[i],'   ',w1[i],'   ',w2[i],'   ',t,'   ', 0)"
      ],
      "metadata": {
        "colab": {
          "base_uri": "https://localhost:8080/"
        },
        "id": "nlA6O-5uvnUG",
        "outputId": "55875aab-20ae-4a4e-85e9-2b45444836fd"
      },
      "execution_count": null,
      "outputs": [
        {
          "output_type": "stream",
          "name": "stdout",
          "text": [
            "x1    x2    w1   w2     t     O\n",
            "0     0     1     1     1     0\n",
            "0     1     1     1     1     1\n",
            "1     0     1     1     1     1\n",
            "1     1     1     1     1     0\n"
          ]
        }
      ]
    },
    {
      "cell_type": "code",
      "source": [
        "# Q-3 Tic-tac-toe Game\n",
        "\n",
        "def PrintBoard(board):\n",
        "    print(\"Current State Of Board : \\n\\n\");\n",
        "    for i in range (0,9):\n",
        "        if((i>0) and (i%3)==0):\n",
        "            print(\"\\n\");\n",
        "        if(board[i]==0):\n",
        "            print(\"- \",end=\" \");\n",
        "        if (board[i]==1):\n",
        "            print(\"O \",end=\" \");\n",
        "        if(board[i]==-1):\n",
        "            print(\"X \",end=\" \");\n",
        "    print(\"\\n\\n\");\n",
        "\n",
        "def User1Turn(board):\n",
        "    pos=input(\"Enter X's position from [1...9]: \");\n",
        "    pos=int(pos);\n",
        "    if(board[pos-1]!=0):\n",
        "        print(\"Wrong Move!!!\");\n",
        "        exit(0) ;\n",
        "    board[pos-1]=-1;\n",
        "\n",
        "def minimax(board,player):\n",
        "    x=Winner(board);\n",
        "    if(x!=0):\n",
        "        return (x*player);\n",
        "    pos=-1;\n",
        "    value=-2;\n",
        "    for i in range(0,9):\n",
        "        if(board[i]==0):\n",
        "            board[i]=player;\n",
        "            score=-minimax(board,(player*-1));\n",
        "            if(score>value):\n",
        "                value=score;\n",
        "                pos=i;\n",
        "            board[i]=0;\n",
        "\n",
        "    if(pos==-1):\n",
        "        return 0;\n",
        "    return value;\n",
        "\n",
        "def CompTurn(board):\n",
        "    pos=-1;\n",
        "    value=-2;\n",
        "    for i in range(0,9):\n",
        "        if(board[i]==0):\n",
        "            board[i]=1;\n",
        "            score=-minimax(board, -1);\n",
        "            board[i]=0;\n",
        "            if(score>value):\n",
        "                value=score;\n",
        "                pos=i;\n",
        "\n",
        "    board[pos]=1;\n",
        "\n",
        "def Winner(board):\n",
        "    cb=[[0,1,2],[3,4,5],[6,7,8],[0,3,6],[1,4,7],[2,5,8],[0,4,8],[2,4,6]];\n",
        "\n",
        "    for i in range(0,8):\n",
        "        if(board[cb[i][0]] != 0 and\n",
        "           board[cb[i][0]] == board[cb[i][1]] and\n",
        "           board[cb[i][0]] == board[cb[i][2]]):\n",
        "            return board[cb[i][2]];\n",
        "    return 0;\n",
        "\n",
        "def main():\n",
        "    board=[0,0,0,0,0,0,0,0,0];\n",
        "    print(\"Computer : O Vs. You : X\");\n",
        "    player= input(\"Enter to play 1(st) or 2(nd) Turn :\");\n",
        "    player = int(player);\n",
        "    for i in range (0,9):\n",
        "        if(Winner(board)!=0):\n",
        "            break;\n",
        "        if((i+player)%2==0):\n",
        "            CompTurn(board);\n",
        "        else:\n",
        "            PrintBoard(board);\n",
        "            User1Turn(board);\n",
        "\n",
        "    x=Winner(board);\n",
        "    if(x==0):\n",
        "         PrintBoard(board);\n",
        "         print(\"Draw!!!\")\n",
        "    if(x==-1):\n",
        "         PrintBoard(board);\n",
        "         print(\"X Wins!!! Y Loose !!!\")\n",
        "    if(x==1):\n",
        "         PrintBoard(board);\n",
        "         print(\"X Loose!!! O Wins !!!!\")\n",
        "\n",
        "main()"
      ],
      "metadata": {
        "colab": {
          "base_uri": "https://localhost:8080/"
        },
        "id": "W_4slvGbvrh-",
        "outputId": "6eafac7c-fc26-455c-afdf-ce31a6ad0192"
      },
      "execution_count": null,
      "outputs": [
        {
          "output_type": "stream",
          "name": "stdout",
          "text": [
            "Computer : O Vs. You : X\n",
            "Enter to play 1(st) or 2(nd) Turn :1\n",
            "Current State Of Board : \n",
            "\n",
            "\n",
            "-  -  -  \n",
            "\n",
            "-  -  -  \n",
            "\n",
            "-  -  -  \n",
            "\n",
            "\n",
            "Enter X's position from [1...9]: 5\n",
            "Current State Of Board : \n",
            "\n",
            "\n",
            "O  -  -  \n",
            "\n",
            "-  X  -  \n",
            "\n",
            "-  -  -  \n",
            "\n",
            "\n",
            "Enter X's position from [1...9]: 3\n",
            "Current State Of Board : \n",
            "\n",
            "\n",
            "O  -  X  \n",
            "\n",
            "-  X  -  \n",
            "\n",
            "O  -  -  \n",
            "\n",
            "\n",
            "Enter X's position from [1...9]: 4\n",
            "Current State Of Board : \n",
            "\n",
            "\n",
            "O  -  X  \n",
            "\n",
            "X  X  O  \n",
            "\n",
            "O  -  -  \n",
            "\n",
            "\n",
            "Enter X's position from [1...9]: 2\n",
            "Current State Of Board : \n",
            "\n",
            "\n",
            "O  X  X  \n",
            "\n",
            "X  X  O  \n",
            "\n",
            "O  O  -  \n",
            "\n",
            "\n",
            "Enter X's position from [1...9]: 9\n",
            "Current State Of Board : \n",
            "\n",
            "\n",
            "O  X  X  \n",
            "\n",
            "X  X  O  \n",
            "\n",
            "O  O  X  \n",
            "\n",
            "\n",
            "Draw!!!\n"
          ]
        }
      ]
    }
  ]
}