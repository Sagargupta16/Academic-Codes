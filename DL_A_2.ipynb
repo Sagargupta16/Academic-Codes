{
  "nbformat": 4,
  "nbformat_minor": 0,
  "metadata": {
    "colab": {
      "provenance": [],
      "authorship_tag": "ABX9TyN2ZML2eZdT7sQr5NP5mXLI",
      "include_colab_link": true
    },
    "kernelspec": {
      "name": "python3",
      "display_name": "Python 3"
    },
    "language_info": {
      "name": "python"
    }
  },
  "cells": [
    {
      "cell_type": "markdown",
      "metadata": {
        "id": "view-in-github",
        "colab_type": "text"
      },
      "source": [
        "<a href=\"https://colab.research.google.com/github/Sagargupta16/Academic-Codes/blob/master/DL_A_2.ipynb\" target=\"_parent\"><img src=\"https://colab.research.google.com/assets/colab-badge.svg\" alt=\"Open In Colab\"/></a>"
      ]
    },
    {
      "cell_type": "code",
      "execution_count": null,
      "metadata": {
        "id": "5DfT6rUV1u8s"
      },
      "outputs": [],
      "source": [
        "# Importing Libraries\n",
        "from torch import nn\n",
        "from torchvision import transforms\n",
        "from torch.utils.data import DataLoader\n",
        "import numpy as np\n",
        "from torchvision.datasets import MNIST\n",
        "from torch import optim\n",
        "import torch\n",
        "from sklearn.metrics import accuracy_score"
      ]
    },
    {
      "cell_type": "code",
      "source": [
        "class Network(nn.Module):\n",
        "    def __init__(self):\n",
        "        super().__init__()\n",
        "        self.hidden1 = nn.Linear(784, 256)\n",
        "        self.hidden2 = nn.Linear(256, 128)\n",
        "        self.hidden3 = nn.Linear(128, 64)\n",
        "        self.output = nn.Linear(64, 10)\n",
        "        self.relu = nn.ReLU()\n",
        "        self.softmax = nn.Softmax(dim=1)\n",
        "        self.dropout = nn.Dropout(0.5)\n",
        "\n",
        "    def forward(self, x):\n",
        "        x = self.hidden1(x)\n",
        "        x = self.relu(x)\n",
        "        x = self.dropout(x)\n",
        "        x = self.hidden2(x)\n",
        "        x = self.relu(x)\n",
        "        x = self.dropout(x)\n",
        "        x = self.hidden3(x)\n",
        "        x = self.relu(x)\n",
        "        x = self.dropout(x)\n",
        "        x = self.output(x)\n",
        "        x = self.softmax(x)\n",
        "        return x"
      ],
      "metadata": {
        "id": "DLCQC3JL5FMd"
      },
      "execution_count": null,
      "outputs": []
    },
    {
      "cell_type": "code",
      "source": [
        "#building network\n",
        "# input_s = 784\n",
        "# hidden_s = [124,64]\n",
        "# output_s = 10\n",
        "\n",
        "model = Network()"
      ],
      "metadata": {
        "id": "D99l_Wg44udq"
      },
      "execution_count": null,
      "outputs": []
    },
    {
      "cell_type": "code",
      "source": [
        "#preprocessing\n",
        "transform = transforms.Compose([transforms.ToTensor(),transforms.Normalize((0.5,),(0.5,))])\n",
        "train_set = MNIST(root='MNIST_data',train=True,download=True,transform=transform)\n",
        "test_set = MNIST(root='MNIST_data',train=False,download=True,transform=transform)\n",
        "train_loader = DataLoader(train_set,batch_size=64,shuffle=True)\n",
        "test_loader = DataLoader(test_set,batch_size=1000,shuffle=False)"
      ],
      "metadata": {
        "id": "XOKyK8x64xVC"
      },
      "execution_count": null,
      "outputs": []
    },
    {
      "cell_type": "code",
      "source": [
        "#Loss and optimizer\n",
        "cost = nn.NLLLoss()\n",
        "optimizer = optim.SGD(model.parameters(),lr=0.001)\n",
        "epochs = 5"
      ],
      "metadata": {
        "id": "nZ-MM51o40XG"
      },
      "execution_count": null,
      "outputs": []
    },
    {
      "cell_type": "code",
      "source": [
        "#Model training\n",
        "for epoch in range(epochs):\n",
        "    total_loss = 0\n",
        "    for images,targets in train_loader:\n",
        "        images = images.view(images.shape[0],-1)\n",
        "        optimizer.zero_grad()\n",
        "        predicted = model(images)\n",
        "        loss = cost(predicted,targets)\n",
        "        loss.backward()\n",
        "        optimizer.step()\n",
        "        total_loss += loss.item()\n",
        "    else:\n",
        "        print(f\"Epoch {epoch+1} Training loss: {total_loss/len(train_loader)}\")"
      ],
      "metadata": {
        "id": "qvc3OIAR414-",
        "colab": {
          "base_uri": "https://localhost:8080/"
        },
        "outputId": "4956cc4a-0e77-4724-841b-3edc1f26aca8"
      },
      "execution_count": null,
      "outputs": [
        {
          "output_type": "stream",
          "name": "stdout",
          "text": [
            "Epoch 1 Training loss: -0.10013256650934341\n",
            "Epoch 2 Training loss: -0.10026576610675245\n",
            "Epoch 3 Training loss: -0.10046801254598063\n",
            "Epoch 4 Training loss: -0.10072159996705014\n",
            "Epoch 5 Training loss: -0.10099136887360484\n"
          ]
        }
      ]
    },
    {
      "cell_type": "code",
      "source": [
        "accuracy = 0\n",
        "no_batches = 0\n",
        "\n",
        "for images , actual in test_loader:\n",
        "    image = images.view(images.shape[0],-1)\n",
        "    output = model(image)\n",
        "\n",
        "    _, predicted_tensor = torch.max(output,1)\n",
        "    pred = np.squeeze(predicted_tensor.numpy())\n",
        "    true = np.squeeze(actual.numpy())\n",
        "    accuracy += accuracy_score(pred,true)\n",
        "    no_batches += 1\n",
        "\n",
        "print(f\"Accuracy Score: {accuracy/no_batches*100}\")"
      ],
      "metadata": {
        "id": "-FnFKOgA44XX"
      },
      "execution_count": null,
      "outputs": []
    },
    {
      "cell_type": "code",
      "source": [
        "import torch\n",
        "import torch.nn as nn\n",
        "import torch.optim as optim\n",
        "import torchvision.transforms as transforms\n",
        "from torchvision.datasets import MNIST\n",
        "from torch.utils.data import DataLoader\n",
        "\n",
        "class Network(nn.Module):\n",
        "    def __init__(self):\n",
        "        super().__init__()\n",
        "        self.hidden1 = nn.Linear(784, 256)\n",
        "        self.hidden2 = nn.Linear(256, 128)\n",
        "        self.hidden3 = nn.Linear(128, 64)\n",
        "        self.output = nn.Linear(64, 10)\n",
        "        self.relu = nn.ReLU()\n",
        "        self.softmax = nn.Softmax(dim=1)\n",
        "\n",
        "    def forward(self, x):\n",
        "        x = self.hidden1(x)\n",
        "        x = self.relu(x)\n",
        "        x = self.hidden2(x)\n",
        "        x = self.relu(x)\n",
        "        x = self.hidden3(x)\n",
        "        x = self.relu(x)\n",
        "        x = self.output(x)\n",
        "        x = self.softmax(x)\n",
        "        return x\n",
        "\n",
        "transform = transforms.Compose([transforms.ToTensor(), transforms.Normalize((0.5,), (0.5,))])\n",
        "train_dataset = MNIST(root='./data', train=True, transform=transform, download=True)\n",
        "test_set = MNIST(root='MNIST_data',train=False,download=True,transform=transform)\n",
        "train_loader = DataLoader(train_dataset, batch_size=64, shuffle=True)\n",
        "test_loader = DataLoader(test_set,batch_size=1000,shuffle=False)\n",
        "\n",
        "model = Network()\n",
        "optimizer = optim.Adam(model.parameters(), lr=0.001)\n",
        "criterion = nn.CrossEntropyLoss()\n",
        "\n",
        "num_epochs = 5\n",
        "for epoch in range(num_epochs):\n",
        "    model.train()\n",
        "    for inputs, labels in train_loader:\n",
        "        optimizer.zero_grad()\n",
        "        outputs = model(inputs.view(inputs.size(0), -1))\n",
        "        loss = criterion(outputs, labels)\n",
        "        loss.backward()\n",
        "        optimizer.step()\n",
        "\n",
        "    print(f'Epoch [{epoch+1}/{num_epochs}] - Loss: {loss.item()}')\n"
      ],
      "metadata": {
        "colab": {
          "base_uri": "https://localhost:8080/"
        },
        "id": "xFVakKuv_D3t",
        "outputId": "60183f99-5252-422f-8c62-a5ad1e685e85"
      },
      "execution_count": null,
      "outputs": [
        {
          "output_type": "stream",
          "name": "stdout",
          "text": [
            "Epoch [1/5] - Loss: 1.5854992866516113\n",
            "Epoch [2/5] - Loss: 1.516394853591919\n",
            "Epoch [3/5] - Loss: 1.4613319635391235\n",
            "Epoch [4/5] - Loss: 1.5233577489852905\n",
            "Epoch [5/5] - Loss: 1.4893742799758911\n"
          ]
        }
      ]
    },
    {
      "cell_type": "code",
      "source": [
        "accuracy = 0\n",
        "no_batches = 0\n",
        "\n",
        "for images , actual in test_loader:\n",
        "    image = images.view(images.shape[0],-1)\n",
        "    output = model(image)\n",
        "\n",
        "    _, predicted_tensor = torch.max(output,1)\n",
        "    pred = np.squeeze(predicted_tensor.numpy())\n",
        "    true = np.squeeze(actual.numpy())\n",
        "    accuracy += accuracy_score(pred,true)\n",
        "    no_batches += 1\n",
        "\n",
        "print(f\"Accuracy Score: {accuracy/no_batches*100}\")"
      ],
      "metadata": {
        "colab": {
          "base_uri": "https://localhost:8080/"
        },
        "id": "PWiLloZ8_vED",
        "outputId": "c21872ce-3b1a-4b84-e44b-a59f68327807"
      },
      "execution_count": null,
      "outputs": [
        {
          "output_type": "stream",
          "name": "stdout",
          "text": [
            "Accuracy Score: 95.83\n"
          ]
        }
      ]
    }
  ]
}